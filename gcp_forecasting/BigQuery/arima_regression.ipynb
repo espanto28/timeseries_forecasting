{
 "cells": [
  {
   "cell_type": "code",
   "execution_count": 187,
   "id": "7f579f05-f847-494f-b97c-367f19b56442",
   "metadata": {
    "tags": []
   },
   "outputs": [],
   "source": [
    "import os\n",
    "#import os\n",
    "import time\n",
    "import gc\n",
    "import argparse\n",
    "import requests\n",
    "import shutil\n",
    "import io\n",
    "\n",
    "#Data Science Libraries\n",
    "import pandas as pd\n",
    "import numpy as np\n",
    "\n",
    "#Import Math, Systems and Date Libraries\n",
    "import math\n",
    "import sys\n",
    "import warnings\n",
    "import datetime\n",
    "import pickle\n",
    "\n",
    "#Google Cloud Libraries\n",
    "from google.cloud import bigquery as bq\n",
    "from google.cloud import storage"
   ]
  },
  {
   "cell_type": "code",
   "execution_count": 188,
   "id": "1053e69d-be5d-401e-998d-8a0edf5da9cf",
   "metadata": {
    "tags": []
   },
   "outputs": [
    {
     "name": "stdout",
     "output_type": "stream",
     "text": [
      "env: GOOGLE_CLOUD_PROJECT='a-better-mistake-2021'\n"
     ]
    }
   ],
   "source": [
    "#Change if you are using a different project\n",
    "%env GOOGLE_CLOUD_PROJECT= 'a-better-mistake-2021'"
   ]
  },
  {
   "cell_type": "code",
   "execution_count": 189,
   "id": "6ec5cda8-1b5d-49fd-aca9-3b13897e1600",
   "metadata": {
    "tags": []
   },
   "outputs": [],
   "source": [
    "def bq_job_config(start_date,end_date):\n",
    "    \n",
    "    job_config = bq.QueryJobConfig()\n",
    "    return job_config"
   ]
  },
  {
   "cell_type": "code",
   "execution_count": 190,
   "id": "e8e24805-abb0-498a-8cf1-9c4eba2fb569",
   "metadata": {
    "tags": []
   },
   "outputs": [],
   "source": [
    "def generate_sql(sql_,project_id,start_date,end_date):\n",
    "    \n",
    "    client = bq.Client(project=project_id)\n",
    "    job_config = bq_job_config(start_date,end_date)\n",
    "    print(job_config)\n",
    "    try:\n",
    "        print(\"Try Block\")\n",
    "        query = client.query(sql_,job_config=job_config)\n",
    "    except:\n",
    "        print(\"Error in query\")\n",
    "    return query"
   ]
  },
  {
   "cell_type": "code",
   "execution_count": 191,
   "id": "3b1eb7df-68d1-4025-aef3-c6a7d1ab22cb",
   "metadata": {
    "tags": []
   },
   "outputs": [],
   "source": [
    "def create_bqml_model(sql_statement):\n",
    "    \"\"\"Executes a BigQuery SQL query and creates a BQML model.\n",
    "\n",
    "    Args:\n",
    "        sql_statement (str): The SQL query to execute.\n",
    "\n",
    "    Returns:\n",
    "        model creation output\n",
    "    \"\"\"\n",
    "\n",
    "    # Create a BigQuery client\n",
    "    client = bq.Client(project=\"a-better-mistake-2021\")\n",
    "\n",
    "    # Execute the query and wait for results\n",
    "    query_job = client.query(sql_statement)  \n",
    "    results = query_job.result()  \n",
    "\n",
    "    # Convert the results to a pandas DataFrame\n",
    "    return results"
   ]
  },
  {
   "cell_type": "code",
   "execution_count": 192,
   "id": "040991b3-6e2b-4d56-b406-eb79e7ece5e3",
   "metadata": {
    "tags": []
   },
   "outputs": [],
   "source": [
    "def read_bigquery_data(sql_statement):\n",
    "    # Set up BigQuery client\n",
    "    client = bq.Client(project=\"a-better-mistake-2021\")\n",
    "\n",
    "    # Run the SQL query\n",
    "    query_job = client.query(sql_statement)\n",
    "\n",
    "    # Convert query results to a pandas DataFrame\n",
    "    dataframe = query_job.to_dataframe()\n",
    "\n",
    "    return dataframe"
   ]
  },
  {
   "cell_type": "code",
   "execution_count": 193,
   "id": "e325be08-5919-4288-97b8-1b061e2bf5fa",
   "metadata": {
    "tags": []
   },
   "outputs": [],
   "source": [
    "def execute_query_to_dataframe(sql_statement):\n",
    "    \"\"\"Executes a BigQuery SQL query and returns the results as a pandas DataFrame.\n",
    "\n",
    "    Args:\n",
    "        sql_statement (str): The SQL query to execute.\n",
    "\n",
    "    Returns:\n",
    "        pandas.DataFrame: The results of the BigQuery query.\n",
    "    \"\"\"\n",
    "\n",
    "    # Create a BigQuery client\n",
    "    client = bq.Client()\n",
    "\n",
    "    # Execute the query and wait for results\n",
    "    query_job = client.query(sql_statement)  \n",
    "    results = query_job.result()  \n",
    "\n",
    "    # Convert the results to a pandas DataFrame\n",
    "    return results.to_dataframe()"
   ]
  },
  {
   "cell_type": "code",
   "execution_count": 194,
   "id": "af803868-f379-4611-8da0-d53f280831f0",
   "metadata": {
    "tags": []
   },
   "outputs": [],
   "source": [
    "def get_data(sql_, project_id, start_date, end_date):\n",
    "\n",
    "    client = bq.Client(project=project_id)\n",
    "    job_config = bq_job_config(start_date,end_date)\n",
    "    try:\n",
    "        df = client.query(sql_,job_config=job_config)\n",
    "    except:\n",
    "        print(\"Error getting data\")\n",
    "    \n",
    "    df = df.to_dataframe(progress_bar_type='tqdm') # Converts to dataframe\n",
    "    \n",
    "    return df"
   ]
  },
  {
   "cell_type": "code",
   "execution_count": 195,
   "id": "8dac6ead-9730-429a-a17e-c1f8497ff2d2",
   "metadata": {
    "tags": []
   },
   "outputs": [],
   "source": [
    "def add_to_table(dest_table_id, sql,bq_table_exists=True):\n",
    "    \n",
    "    # Construct a BigQuery client object.\n",
    "    client = bq.Client()\n",
    "    \n",
    "    if bq_table_exists:\n",
    "        write_disposition = \"WRITE_TRUNCATE\"\n",
    "    else:\n",
    "        write_disposition = \"WRITE_EMPTY\"\n",
    "    \n",
    "    job_config = bq.QueryJobConfig(\n",
    "        # Set our destination table\n",
    "        destination=dest_table_id,\n",
    "        \n",
    "        # setting to add to the destination table if it already exists \n",
    "        write_disposition= write_disposition,\n",
    "        create_disposition='CREATE_IF_NEEDED'\n",
    "    )\n",
    "    \n",
    "    query_job = client.query(sql, job_config=job_config, )  # Make an API request.\n",
    "    query_job.result() # Wait for result\n",
    "\n",
    "    return"
   ]
  },
  {
   "cell_type": "code",
   "execution_count": 196,
   "id": "4d161a5a-dd33-4d7f-9a0c-372af5287382",
   "metadata": {
    "tags": []
   },
   "outputs": [],
   "source": [
    "def load_dataframe_to_bigquery(dataframe,table_id,job_config):\n",
    "    bq_job = bq_client.load_table_from_dataframe(\n",
    "    vision_df, table_id, job_config=bq_job_config\n",
    "    )  # Make an API request.\n",
    "    return bq_job.result() "
   ]
  },
  {
   "cell_type": "code",
   "execution_count": 197,
   "id": "672f391e-5487-45d9-8b9b-9ec131e03733",
   "metadata": {
    "tags": []
   },
   "outputs": [],
   "source": [
    "def read_data(filename,num_rows):\n",
    "    df = pd.read_csv(filename,nrows=num_rows,delimiter=\"|\")\n",
    "    return df"
   ]
  },
  {
   "cell_type": "code",
   "execution_count": 198,
   "id": "b169b016-5c01-4639-bf9c-e55d9c920751",
   "metadata": {
    "tags": []
   },
   "outputs": [],
   "source": [
    "def create_gcp_bucket(client,bucket_name):\n",
    "    storage_client = client\n",
    "    bucket = storage_client.bucket(bucket_name)\n",
    "    return bucket"
   ]
  },
  {
   "cell_type": "code",
   "execution_count": 199,
   "id": "5d7f0c98-4a0a-4ecd-902d-60a30144576d",
   "metadata": {
    "tags": []
   },
   "outputs": [],
   "source": [
    "def create_bigquery_table(dataframe, project_id, dataset_id, table_id):\n",
    "    # Initialize BigQuery client\n",
    "    client = bq.Client(project=project_id)\n",
    "\n",
    "    # Create dataset if it doesn't exist\n",
    "    dataset_ref = client.dataset(dataset_id)\n",
    "    dataset = bq.Dataset(dataset_ref)\n",
    "    dataset.location = \"US\"\n",
    "    dataset = client.create_dataset(dataset, exists_ok=True)\n",
    "\n",
    "    # Convert DataFrame to BigQuery table\n",
    "    table_ref = dataset.table(table_id)\n",
    "    print(table_ref)\n",
    "    job_config = bq.LoadJobConfig()\n",
    "    job_config.write_disposition = bq.WriteDisposition.WRITE_TRUNCATE\n",
    "    job = client.load_table_from_dataframe(dataframe, table_ref, job_config=job_config)\n",
    "    job.result()\n",
    "\n",
    "    print(f\"Table {table_id} created successfully in BigQuery.\")"
   ]
  },
  {
   "cell_type": "code",
   "execution_count": 200,
   "id": "db7add03-fb3a-4e65-86f4-fa08b2610d43",
   "metadata": {
    "tags": []
   },
   "outputs": [],
   "source": [
    "#Environment ARIMA Variables\n",
    "PROJECT_ID = \"a-better-mistake-2021\"\n",
    "dataset_id = \"aster_uat\"\n",
    "training_table_id = \"sku_arima_regression_quantity_training_data\"\n",
    "evaluation_table_id = \"sku_arima_regression_quantity_evaluation_data\"\n",
    "prediction_table_id = \"sku_arima_regression_quantity_prediction_data\""
   ]
  },
  {
   "cell_type": "code",
   "execution_count": 90,
   "id": "2ee7bd08-83bc-49c4-af3d-4cfbf4aa44a6",
   "metadata": {
    "tags": []
   },
   "outputs": [],
   "source": [
    "#ARIMA Training Data\n",
    "SKU_TRAINING_CREATION_SQL_PATH = \"sql/arima/quantity/arima_training_quantity_data.sql\""
   ]
  },
  {
   "cell_type": "code",
   "execution_count": 91,
   "id": "52fb8e4d-29f4-4a82-95e6-4d9447da4850",
   "metadata": {
    "tags": []
   },
   "outputs": [],
   "source": [
    "#ARIMA Training Data\n",
    "CREATE_ARIMA_SQL_PATH = \"sql/arima/quantity/create_arima_quantity_model.sql\""
   ]
  },
  {
   "cell_type": "code",
   "execution_count": 92,
   "id": "08d73b62-431b-483b-98d7-60a8d203416c",
   "metadata": {
    "tags": []
   },
   "outputs": [],
   "source": [
    "#Create SKU Training Table\n",
    "train_sql_query = open(SKU_TRAINING_CREATION_SQL_PATH).read()"
   ]
  },
  {
   "cell_type": "code",
   "execution_count": 93,
   "id": "71be9c32-b453-4bf6-a988-009b495dcaa6",
   "metadata": {
    "tags": []
   },
   "outputs": [
    {
     "data": {
      "text/html": [
       "<div>\n",
       "<style scoped>\n",
       "    .dataframe tbody tr th:only-of-type {\n",
       "        vertical-align: middle;\n",
       "    }\n",
       "\n",
       "    .dataframe tbody tr th {\n",
       "        vertical-align: top;\n",
       "    }\n",
       "\n",
       "    .dataframe thead th {\n",
       "        text-align: right;\n",
       "    }\n",
       "</style>\n",
       "<table border=\"1\" class=\"dataframe\">\n",
       "  <thead>\n",
       "    <tr style=\"text-align: right;\">\n",
       "      <th></th>\n",
       "      <th>date</th>\n",
       "      <th>item_id</th>\n",
       "      <th>store_id</th>\n",
       "      <th>quantity</th>\n",
       "    </tr>\n",
       "  </thead>\n",
       "  <tbody>\n",
       "    <tr>\n",
       "      <th>0</th>\n",
       "      <td>2024-01-02</td>\n",
       "      <td>1000111</td>\n",
       "      <td>1278</td>\n",
       "      <td>1.0</td>\n",
       "    </tr>\n",
       "    <tr>\n",
       "      <th>1</th>\n",
       "      <td>2024-01-02</td>\n",
       "      <td>1000314</td>\n",
       "      <td>1278</td>\n",
       "      <td>1.0</td>\n",
       "    </tr>\n",
       "    <tr>\n",
       "      <th>2</th>\n",
       "      <td>2024-01-02</td>\n",
       "      <td>1001151</td>\n",
       "      <td>1278</td>\n",
       "      <td>2.0</td>\n",
       "    </tr>\n",
       "    <tr>\n",
       "      <th>3</th>\n",
       "      <td>2024-01-02</td>\n",
       "      <td>1001417</td>\n",
       "      <td>1278</td>\n",
       "      <td>1.0</td>\n",
       "    </tr>\n",
       "    <tr>\n",
       "      <th>4</th>\n",
       "      <td>2024-01-02</td>\n",
       "      <td>1002429</td>\n",
       "      <td>1278</td>\n",
       "      <td>1.0</td>\n",
       "    </tr>\n",
       "  </tbody>\n",
       "</table>\n",
       "</div>"
      ],
      "text/plain": [
       "         date  item_id store_id  quantity\n",
       "0  2024-01-02  1000111     1278       1.0\n",
       "1  2024-01-02  1000314     1278       1.0\n",
       "2  2024-01-02  1001151     1278       2.0\n",
       "3  2024-01-02  1001417     1278       1.0\n",
       "4  2024-01-02  1002429     1278       1.0"
      ]
     },
     "execution_count": 93,
     "metadata": {},
     "output_type": "execute_result"
    }
   ],
   "source": [
    "#Create ARIMA Dataframe\n",
    "train_df = read_bigquery_data(train_sql_query)\n",
    "train_df.head()"
   ]
  },
  {
   "cell_type": "code",
   "execution_count": 94,
   "id": "05c20d3b-4f7f-4948-8a21-9ac36a4bee5f",
   "metadata": {
    "tags": []
   },
   "outputs": [
    {
     "name": "stdout",
     "output_type": "stream",
     "text": [
      "a-better-mistake-2021.aster_uat.sku_arima_regression_quantity_training_data\n",
      "Table sku_arima_regression_quantity_training_data created successfully in BigQuery.\n"
     ]
    }
   ],
   "source": [
    "#Create Training Data for ARIMA+ Model\n",
    "create_bigquery_table(train_df, PROJECT_ID, dataset_id, training_table_id)"
   ]
  },
  {
   "cell_type": "code",
   "execution_count": 95,
   "id": "7ac9e057-aa34-4147-833d-25d5757bd85c",
   "metadata": {
    "tags": []
   },
   "outputs": [],
   "source": [
    "#Read ARIMA Model\n",
    "create_arima_model_query = open(CREATE_ARIMA_SQL_PATH).read()"
   ]
  },
  {
   "cell_type": "code",
   "execution_count": 96,
   "id": "e84cf1b1-5b69-46e1-9cf1-dacb778e638b",
   "metadata": {},
   "outputs": [
    {
     "data": {
      "text/plain": [
       "<google.cloud.bigquery.table._EmptyRowIterator at 0x7f4628932c80>"
      ]
     },
     "execution_count": 96,
     "metadata": {},
     "output_type": "execute_result"
    }
   ],
   "source": [
    "#Create ARIMA Model\n",
    "create_bqml_model(create_arima_model_query)"
   ]
  },
  {
   "cell_type": "code",
   "execution_count": 99,
   "id": "9efb3acc-b478-4938-adb4-ec52ed4d8ea8",
   "metadata": {
    "tags": []
   },
   "outputs": [],
   "source": [
    "#Evaluation Results\n",
    "ARIMA_EVALUATION_SQL_PATH = \"sql/arima/quantity/arima_evaluation_data.sql\""
   ]
  },
  {
   "cell_type": "code",
   "execution_count": 100,
   "id": "29ba8831-66a3-4ab8-9990-dff364561f1c",
   "metadata": {
    "tags": []
   },
   "outputs": [],
   "source": [
    "arima_evaluation_query = open(ARIMA_EVALUATION_SQL_PATH).read()"
   ]
  },
  {
   "cell_type": "code",
   "execution_count": 101,
   "id": "a9219868-1140-4794-a393-5b5cf4b57086",
   "metadata": {
    "tags": []
   },
   "outputs": [
    {
     "data": {
      "text/html": [
       "<div>\n",
       "<style scoped>\n",
       "    .dataframe tbody tr th:only-of-type {\n",
       "        vertical-align: middle;\n",
       "    }\n",
       "\n",
       "    .dataframe tbody tr th {\n",
       "        vertical-align: top;\n",
       "    }\n",
       "\n",
       "    .dataframe thead th {\n",
       "        text-align: right;\n",
       "    }\n",
       "</style>\n",
       "<table border=\"1\" class=\"dataframe\">\n",
       "  <thead>\n",
       "    <tr style=\"text-align: right;\">\n",
       "      <th></th>\n",
       "      <th>date</th>\n",
       "      <th>real_quantity</th>\n",
       "      <th>upper_forecast</th>\n",
       "      <th>avg_forecast</th>\n",
       "      <th>lower_forecast</th>\n",
       "    </tr>\n",
       "  </thead>\n",
       "  <tbody>\n",
       "    <tr>\n",
       "      <th>0</th>\n",
       "      <td>2024-12-11</td>\n",
       "      <td>1177.0</td>\n",
       "      <td>4193.4</td>\n",
       "      <td>3031.5</td>\n",
       "      <td>1869.8</td>\n",
       "    </tr>\n",
       "    <tr>\n",
       "      <th>1</th>\n",
       "      <td>2024-12-12</td>\n",
       "      <td>1470.0</td>\n",
       "      <td>4320.1</td>\n",
       "      <td>2940.1</td>\n",
       "      <td>1560.4</td>\n",
       "    </tr>\n",
       "    <tr>\n",
       "      <th>2</th>\n",
       "      <td>2024-12-13</td>\n",
       "      <td>1354.0</td>\n",
       "      <td>3905.8</td>\n",
       "      <td>2675.4</td>\n",
       "      <td>1444.8</td>\n",
       "    </tr>\n",
       "    <tr>\n",
       "      <th>3</th>\n",
       "      <td>2024-12-14</td>\n",
       "      <td>1384.0</td>\n",
       "      <td>4421.4</td>\n",
       "      <td>2970.1</td>\n",
       "      <td>1518.3</td>\n",
       "    </tr>\n",
       "    <tr>\n",
       "      <th>4</th>\n",
       "      <td>2024-12-15</td>\n",
       "      <td>1459.0</td>\n",
       "      <td>4351.1</td>\n",
       "      <td>2905.8</td>\n",
       "      <td>1460.1</td>\n",
       "    </tr>\n",
       "  </tbody>\n",
       "</table>\n",
       "</div>"
      ],
      "text/plain": [
       "         date  real_quantity  upper_forecast  avg_forecast  lower_forecast\n",
       "0  2024-12-11         1177.0          4193.4        3031.5          1869.8\n",
       "1  2024-12-12         1470.0          4320.1        2940.1          1560.4\n",
       "2  2024-12-13         1354.0          3905.8        2675.4          1444.8\n",
       "3  2024-12-14         1384.0          4421.4        2970.1          1518.3\n",
       "4  2024-12-15         1459.0          4351.1        2905.8          1460.1"
      ]
     },
     "execution_count": 101,
     "metadata": {},
     "output_type": "execute_result"
    }
   ],
   "source": [
    "#Create Dataframe\n",
    "arima_eval_df = read_bigquery_data(arima_evaluation_query)\n",
    "arima_eval_df.head()"
   ]
  },
  {
   "cell_type": "code",
   "execution_count": 102,
   "id": "ff707f8a-4b9f-4af5-abf1-a1457fefeb2f",
   "metadata": {
    "tags": []
   },
   "outputs": [],
   "source": [
    "import matplotlib.pyplot as plt"
   ]
  },
  {
   "cell_type": "code",
   "execution_count": 103,
   "id": "c16223db-cb2f-43a0-9e45-103a5ae63cf0",
   "metadata": {
    "tags": []
   },
   "outputs": [
    {
     "data": {
      "text/plain": [
       "<Figure size 1000x600 with 0 Axes>"
      ]
     },
     "execution_count": 103,
     "metadata": {},
     "output_type": "execute_result"
    },
    {
     "data": {
      "text/plain": [
       "<Figure size 1000x600 with 0 Axes>"
      ]
     },
     "metadata": {},
     "output_type": "display_data"
    }
   ],
   "source": [
    "#ARIMA forecast\n",
    "# Create the plot\n",
    "plt.figure(figsize=(10, 6)) "
   ]
  },
  {
   "cell_type": "code",
   "execution_count": 104,
   "id": "afde39cc-2740-42f6-9412-1d54c9495ce7",
   "metadata": {
    "tags": []
   },
   "outputs": [
    {
     "data": {
      "image/png": "[encoded data removed]",
      "text/plain": [
       "<Figure size 640x480 with 1 Axes>"
      ]
     },
     "metadata": {},
     "output_type": "display_data"
    }
   ],
   "source": [
    "# Plot the lines\n",
    "plt.plot(arima_eval_df['date'], arima_eval_df['real_quantity'], label='Real Quantity', marker='o')\n",
    "plt.plot(arima_eval_df['date'], arima_eval_df['upper_forecast'], label='Upper Forecast', linestyle='--')\n",
    "plt.plot(arima_eval_df['date'], arima_eval_df['avg_forecast'], label='Average Forecast', linestyle='--')\n",
    "plt.plot(arima_eval_df['date'], arima_eval_df['lower_forecast'], label='Lower Forecast', linestyle='--')\n",
    "\n",
    "# Fill between the forecast lines\n",
    "plt.fill_between(arima_eval_df['date'], arima_eval_df['lower_forecast'], arima_eval_df['upper_forecast'], color='gray', alpha=0.2)\n",
    "\n",
    "# Add labels and title\n",
    "plt.xlabel('Date')\n",
    "plt.ylabel('Quantity')\n",
    "plt.title('Quantity Forecast')\n",
    "plt.legend()\n",
    "\n",
    "# Format the x-axis (optional)\n",
    "plt.xticks(rotation=45)\n",
    "\n",
    "# Show the plot\n",
    "plt.tight_layout()\n",
    "plt.show()"
   ]
  },
  {
   "cell_type": "code",
   "execution_count": 147,
   "id": "7d677cc8-8348-47a6-8305-8967e5b1c187",
   "metadata": {
    "tags": []
   },
   "outputs": [],
   "source": [
    "#Save ARIMA Prediction Table to BigQuery\n",
    "SKU_ARIMA_PREDICITION_PATH = \"sql/arima/quantity/arima_prediction_data.sql\""
   ]
  },
  {
   "cell_type": "code",
   "execution_count": 149,
   "id": "684f2298-771b-4608-8313-278f29c42cb6",
   "metadata": {
    "tags": []
   },
   "outputs": [],
   "source": [
    "arima_prediction_data_query = open(SKU_ARIMA_PREDICITION_PATH).read()"
   ]
  },
  {
   "cell_type": "code",
   "execution_count": 150,
   "id": "494ca679-c439-46ae-a2fb-8e229270f712",
   "metadata": {
    "tags": []
   },
   "outputs": [
    {
     "data": {
      "text/html": [
       "<div>\n",
       "<style scoped>\n",
       "    .dataframe tbody tr th:only-of-type {\n",
       "        vertical-align: middle;\n",
       "    }\n",
       "\n",
       "    .dataframe tbody tr th {\n",
       "        vertical-align: top;\n",
       "    }\n",
       "\n",
       "    .dataframe thead th {\n",
       "        text-align: right;\n",
       "    }\n",
       "</style>\n",
       "<table border=\"1\" class=\"dataframe\">\n",
       "  <thead>\n",
       "    <tr style=\"text-align: right;\">\n",
       "      <th></th>\n",
       "      <th>date</th>\n",
       "      <th>store_id</th>\n",
       "      <th>item_id</th>\n",
       "      <th>upper_forecast</th>\n",
       "      <th>avg_forecast</th>\n",
       "      <th>lower_forecast</th>\n",
       "    </tr>\n",
       "  </thead>\n",
       "  <tbody>\n",
       "    <tr>\n",
       "      <th>0</th>\n",
       "      <td>2024-12-11</td>\n",
       "      <td>1278</td>\n",
       "      <td>1053508</td>\n",
       "      <td>6.0</td>\n",
       "      <td>5.5</td>\n",
       "      <td>5.0</td>\n",
       "    </tr>\n",
       "    <tr>\n",
       "      <th>1</th>\n",
       "      <td>2024-12-11</td>\n",
       "      <td>1278</td>\n",
       "      <td>1057634</td>\n",
       "      <td>4.9</td>\n",
       "      <td>4.6</td>\n",
       "      <td>4.3</td>\n",
       "    </tr>\n",
       "    <tr>\n",
       "      <th>2</th>\n",
       "      <td>2024-12-11</td>\n",
       "      <td>1278</td>\n",
       "      <td>1004033</td>\n",
       "      <td>3.1</td>\n",
       "      <td>2.3</td>\n",
       "      <td>1.5</td>\n",
       "    </tr>\n",
       "    <tr>\n",
       "      <th>3</th>\n",
       "      <td>2024-12-11</td>\n",
       "      <td>1278</td>\n",
       "      <td>1004157</td>\n",
       "      <td>5.8</td>\n",
       "      <td>4.0</td>\n",
       "      <td>2.1</td>\n",
       "    </tr>\n",
       "    <tr>\n",
       "      <th>4</th>\n",
       "      <td>2024-12-11</td>\n",
       "      <td>1304</td>\n",
       "      <td>1023471</td>\n",
       "      <td>4.1</td>\n",
       "      <td>2.4</td>\n",
       "      <td>0.6</td>\n",
       "    </tr>\n",
       "  </tbody>\n",
       "</table>\n",
       "</div>"
      ],
      "text/plain": [
       "         date store_id  item_id  upper_forecast  avg_forecast  lower_forecast\n",
       "0  2024-12-11     1278  1053508             6.0           5.5             5.0\n",
       "1  2024-12-11     1278  1057634             4.9           4.6             4.3\n",
       "2  2024-12-11     1278  1004033             3.1           2.3             1.5\n",
       "3  2024-12-11     1278  1004157             5.8           4.0             2.1\n",
       "4  2024-12-11     1304  1023471             4.1           2.4             0.6"
      ]
     },
     "execution_count": 150,
     "metadata": {},
     "output_type": "execute_result"
    }
   ],
   "source": [
    "#Create Regression Evaluation Dataframe\n",
    "arima_preds_df = read_bigquery_data(arima_prediction_data_query)\n",
    "arima_preds_df.head()"
   ]
  },
  {
   "cell_type": "code",
   "execution_count": 153,
   "id": "a99273fd-4467-4c45-9a23-cb352e745995",
   "metadata": {
    "tags": []
   },
   "outputs": [
    {
     "name": "stdout",
     "output_type": "stream",
     "text": [
      "a-better-mistake-2021.aster_uat.sku_arima_regression_quantity_prediction_data\n",
      "Table sku_arima_regression_quantity_prediction_data created successfully in BigQuery.\n"
     ]
    }
   ],
   "source": [
    "#Create Prediction Data for Arima Model in BigQuery\n",
    "create_bigquery_table(arima_preds_df, PROJECT_ID, dataset_id, prediction_table_id)"
   ]
  },
  {
   "cell_type": "code",
   "execution_count": 145,
   "id": "9e37f3ac-e8de-4361-8fa6-6e04b1ecc1ed",
   "metadata": {
    "tags": []
   },
   "outputs": [],
   "source": [
    "#Regression Project Variables\n",
    "PROJECT_ID = \"a-better-mistake-2021\"\n",
    "dataset_id = \"aster_uat\"\n",
    "regression_training_table_id = \"sku_regression_quantity_training_data\"\n",
    "regression_evaluation_table_id = \"sku_regression_quantity_evaluation_data\"\n",
    "regression_prediction_table_id = \"sku_regression_quantity_prediction_data\""
   ]
  },
  {
   "cell_type": "code",
   "execution_count": 106,
   "id": "e0579a71-9500-4ab2-9aad-a551ffbbe9d8",
   "metadata": {
    "tags": []
   },
   "outputs": [],
   "source": [
    "#Create Training Data for XGBoost Regression Model\n",
    "SKU_REGRSSION_TRAINING_CREATION_SQL_PATH = \"sql/regression/quantity/regression_training_data.sql\""
   ]
  },
  {
   "cell_type": "code",
   "execution_count": 107,
   "id": "fc0976ef-06b2-46cb-ac37-2f48f841d37a",
   "metadata": {
    "tags": []
   },
   "outputs": [],
   "source": [
    "regression_training_data_sql = open(SKU_REGRSSION_TRAINING_CREATION_SQL_PATH).read()"
   ]
  },
  {
   "cell_type": "code",
   "execution_count": 108,
   "id": "0b924400-5641-4b87-926e-ed270fb6acdf",
   "metadata": {
    "tags": []
   },
   "outputs": [
    {
     "data": {
      "text/html": [
       "<div>\n",
       "<style scoped>\n",
       "    .dataframe tbody tr th:only-of-type {\n",
       "        vertical-align: middle;\n",
       "    }\n",
       "\n",
       "    .dataframe tbody tr th {\n",
       "        vertical-align: top;\n",
       "    }\n",
       "\n",
       "    .dataframe thead th {\n",
       "        text-align: right;\n",
       "    }\n",
       "</style>\n",
       "<table border=\"1\" class=\"dataframe\">\n",
       "  <thead>\n",
       "    <tr style=\"text-align: right;\">\n",
       "      <th></th>\n",
       "      <th>date</th>\n",
       "      <th>day_of_week</th>\n",
       "      <th>delivery_type</th>\n",
       "      <th>item_id</th>\n",
       "      <th>store_id</th>\n",
       "      <th>item_discount</th>\n",
       "      <th>quantity</th>\n",
       "    </tr>\n",
       "  </thead>\n",
       "  <tbody>\n",
       "    <tr>\n",
       "      <th>0</th>\n",
       "      <td>2024-01-02</td>\n",
       "      <td>3</td>\n",
       "      <td>Standard</td>\n",
       "      <td>1000111</td>\n",
       "      <td>1278</td>\n",
       "      <td>0.0</td>\n",
       "      <td>1.0</td>\n",
       "    </tr>\n",
       "    <tr>\n",
       "      <th>1</th>\n",
       "      <td>2024-01-02</td>\n",
       "      <td>3</td>\n",
       "      <td>Standard</td>\n",
       "      <td>1000314</td>\n",
       "      <td>1278</td>\n",
       "      <td>0.0</td>\n",
       "      <td>1.0</td>\n",
       "    </tr>\n",
       "    <tr>\n",
       "      <th>2</th>\n",
       "      <td>2024-01-02</td>\n",
       "      <td>3</td>\n",
       "      <td>Standard</td>\n",
       "      <td>1001151</td>\n",
       "      <td>1278</td>\n",
       "      <td>0.0</td>\n",
       "      <td>2.0</td>\n",
       "    </tr>\n",
       "    <tr>\n",
       "      <th>3</th>\n",
       "      <td>2024-01-02</td>\n",
       "      <td>3</td>\n",
       "      <td>Standard</td>\n",
       "      <td>1001417</td>\n",
       "      <td>1278</td>\n",
       "      <td>0.0</td>\n",
       "      <td>1.0</td>\n",
       "    </tr>\n",
       "    <tr>\n",
       "      <th>4</th>\n",
       "      <td>2024-01-02</td>\n",
       "      <td>3</td>\n",
       "      <td>Standard</td>\n",
       "      <td>1002429</td>\n",
       "      <td>1278</td>\n",
       "      <td>0.0</td>\n",
       "      <td>1.0</td>\n",
       "    </tr>\n",
       "  </tbody>\n",
       "</table>\n",
       "</div>"
      ],
      "text/plain": [
       "         date  day_of_week delivery_type  item_id store_id  item_discount  \\\n",
       "0  2024-01-02            3      Standard  1000111     1278            0.0   \n",
       "1  2024-01-02            3      Standard  1000314     1278            0.0   \n",
       "2  2024-01-02            3      Standard  1001151     1278            0.0   \n",
       "3  2024-01-02            3      Standard  1001417     1278            0.0   \n",
       "4  2024-01-02            3      Standard  1002429     1278            0.0   \n",
       "\n",
       "   quantity  \n",
       "0       1.0  \n",
       "1       1.0  \n",
       "2       2.0  \n",
       "3       1.0  \n",
       "4       1.0  "
      ]
     },
     "execution_count": 108,
     "metadata": {},
     "output_type": "execute_result"
    }
   ],
   "source": [
    "#Create Regression Dataframe\n",
    "regression_train_df = read_bigquery_data(regression_training_data_sql)\n",
    "regression_train_df.head()"
   ]
  },
  {
   "cell_type": "code",
   "execution_count": 109,
   "id": "a8050921-ef9e-49ae-9958-b11711bbcc1f",
   "metadata": {
    "tags": []
   },
   "outputs": [
    {
     "name": "stdout",
     "output_type": "stream",
     "text": [
      "a-better-mistake-2021.aster_uat.sku_regression_quantity_training_data\n",
      "Table sku_regression_quantity_training_data created successfully in BigQuery.\n"
     ]
    }
   ],
   "source": [
    "#Create BigQuery Table for Regression training data\n",
    "create_bigquery_table(regression_train_df, PROJECT_ID, dataset_id, regression_training_table_id)"
   ]
  },
  {
   "cell_type": "code",
   "execution_count": 110,
   "id": "6204f478-de67-4a0c-8723-c11c48b77978",
   "metadata": {
    "tags": []
   },
   "outputs": [],
   "source": [
    "#Create BigQuery XGBoost Model Query\n",
    "CREATE_REGRESSION_SQL_PATH = \"sql/regression/quantity/create_regression_model.sql\""
   ]
  },
  {
   "cell_type": "code",
   "execution_count": 111,
   "id": "751e7c5d-e517-4e22-b15b-e54509cf23ba",
   "metadata": {
    "tags": []
   },
   "outputs": [],
   "source": [
    "#Create SKU Training Table\n",
    "create_regression_sql_query = open(CREATE_REGRESSION_SQL_PATH).read()"
   ]
  },
  {
   "cell_type": "code",
   "execution_count": 112,
   "id": "eba517a8-d43a-46b4-9246-8277c19a3a61",
   "metadata": {},
   "outputs": [
    {
     "data": {
      "text/plain": [
       "<google.cloud.bigquery.table._EmptyRowIterator at 0x7f4628838af0>"
      ]
     },
     "execution_count": 112,
     "metadata": {},
     "output_type": "execute_result"
    }
   ],
   "source": [
    "#Create XGBoost Model\n",
    "create_bqml_model(create_arima_model_query)"
   ]
  },
  {
   "cell_type": "code",
   "execution_count": 132,
   "id": "1f9fcd66-450e-459a-b9a1-30e5f5c4f013",
   "metadata": {
    "tags": []
   },
   "outputs": [],
   "source": [
    "#Evaluation query\n",
    "SKU_REGRESSION_EVALUATION_CREATION_SQL_PATH = \"sql/regression/quantity/regression_evaluation_data.sql\""
   ]
  },
  {
   "cell_type": "code",
   "execution_count": 133,
   "id": "1ac08fb7-48bc-40cf-b481-aff1c58d00dd",
   "metadata": {
    "tags": []
   },
   "outputs": [],
   "source": [
    "regression_evaluation_sql_query = open(SKU_REGRESSION_EVALUATION_CREATION_SQL_PATH).read()"
   ]
  },
  {
   "cell_type": "code",
   "execution_count": 134,
   "id": "486667f2-aead-4519-ae91-0dade27f21e7",
   "metadata": {
    "tags": []
   },
   "outputs": [
    {
     "data": {
      "text/html": [
       "<div>\n",
       "<style scoped>\n",
       "    .dataframe tbody tr th:only-of-type {\n",
       "        vertical-align: middle;\n",
       "    }\n",
       "\n",
       "    .dataframe tbody tr th {\n",
       "        vertical-align: top;\n",
       "    }\n",
       "\n",
       "    .dataframe thead th {\n",
       "        text-align: right;\n",
       "    }\n",
       "</style>\n",
       "<table border=\"1\" class=\"dataframe\">\n",
       "  <thead>\n",
       "    <tr style=\"text-align: right;\">\n",
       "      <th></th>\n",
       "      <th>date</th>\n",
       "      <th>predicted_quantity</th>\n",
       "      <th>real_quantity</th>\n",
       "    </tr>\n",
       "  </thead>\n",
       "  <tbody>\n",
       "    <tr>\n",
       "      <th>0</th>\n",
       "      <td>2024-12-11</td>\n",
       "      <td>1007.0</td>\n",
       "      <td>1177.0</td>\n",
       "    </tr>\n",
       "    <tr>\n",
       "      <th>1</th>\n",
       "      <td>2024-12-12</td>\n",
       "      <td>1350.0</td>\n",
       "      <td>1470.0</td>\n",
       "    </tr>\n",
       "    <tr>\n",
       "      <th>2</th>\n",
       "      <td>2024-12-13</td>\n",
       "      <td>1246.0</td>\n",
       "      <td>1354.0</td>\n",
       "    </tr>\n",
       "    <tr>\n",
       "      <th>3</th>\n",
       "      <td>2024-12-14</td>\n",
       "      <td>1305.0</td>\n",
       "      <td>1384.0</td>\n",
       "    </tr>\n",
       "    <tr>\n",
       "      <th>4</th>\n",
       "      <td>2024-12-15</td>\n",
       "      <td>1346.0</td>\n",
       "      <td>1459.0</td>\n",
       "    </tr>\n",
       "  </tbody>\n",
       "</table>\n",
       "</div>"
      ],
      "text/plain": [
       "         date  predicted_quantity  real_quantity\n",
       "0  2024-12-11              1007.0         1177.0\n",
       "1  2024-12-12              1350.0         1470.0\n",
       "2  2024-12-13              1246.0         1354.0\n",
       "3  2024-12-14              1305.0         1384.0\n",
       "4  2024-12-15              1346.0         1459.0"
      ]
     },
     "execution_count": 134,
     "metadata": {},
     "output_type": "execute_result"
    }
   ],
   "source": [
    "#Create Regression Evaluation Dataframe\n",
    "regression_eval_df = read_bigquery_data(regression_evaluation_sql_query)\n",
    "regression_eval_df.head()"
   ]
  },
  {
   "cell_type": "code",
   "execution_count": 135,
   "id": "3f78587d-272a-47c4-ad97-66ce4d51561a",
   "metadata": {
    "tags": []
   },
   "outputs": [
    {
     "data": {
      "text/plain": [
       "<Figure size 1000x600 with 0 Axes>"
      ]
     },
     "execution_count": 135,
     "metadata": {},
     "output_type": "execute_result"
    },
    {
     "data": {
      "text/plain": [
       "<Figure size 1000x600 with 0 Axes>"
      ]
     },
     "metadata": {},
     "output_type": "display_data"
    }
   ],
   "source": [
    "#Visual Model Results\n",
    "#Create the plot\n",
    "plt.figure(figsize=(10, 6)) "
   ]
  },
  {
   "cell_type": "code",
   "execution_count": 137,
   "id": "ff2a3a7d-3ba2-4d68-8ba8-02b1094f88ac",
   "metadata": {
    "tags": []
   },
   "outputs": [
    {
     "data": {
      "image/png": "[encoded data removed]",
      "text/plain": [
       "<Figure size 640x480 with 1 Axes>"
      ]
     },
     "metadata": {},
     "output_type": "display_data"
    }
   ],
   "source": [
    "# Plot the lines\n",
    "plt.plot(regression_eval_df['date'], regression_eval_df['real_quantity'], label='Real Quantity', marker='o')\n",
    "plt.plot(regression_eval_df['date'], regression_eval_df['predicted_quantity'], label='Predicted Quantity', linestyle='--')\n",
    "\n",
    "# Fill between the forecast lines\n",
    "plt.fill_between(regression_eval_df['date'], regression_eval_df['real_quantity'], regression_eval_df['predicted_quantity'], color='gray', alpha=0.2)\n",
    "\n",
    "# Add labels and title\n",
    "plt.xlabel('Date')\n",
    "plt.ylabel('Quantity')\n",
    "plt.title('Quantity Forecast')\n",
    "plt.legend()\n",
    "\n",
    "# Format the x-axis (optional)\n",
    "plt.xticks(rotation=45)\n",
    "\n",
    "# Show the plot\n",
    "plt.tight_layout()\n",
    "plt.show()"
   ]
  },
  {
   "cell_type": "code",
   "execution_count": 140,
   "id": "c9cbfc77-4d84-4438-9a44-aee1bda94425",
   "metadata": {
    "tags": []
   },
   "outputs": [],
   "source": [
    "#Save Regression Prediction Table to BigQuery\n",
    "SKU_REGRESSION_PREDICITION_PATH = \"sql/regression/quantity/regression_prediction_query.sql\""
   ]
  },
  {
   "cell_type": "code",
   "execution_count": 143,
   "id": "b8602ec2-7043-44e9-ac33-200426310df8",
   "metadata": {
    "tags": []
   },
   "outputs": [],
   "source": [
    "regression_prediction_query = open(SKU_REGRESSION_PREDICITION_PATH).read()"
   ]
  },
  {
   "cell_type": "code",
   "execution_count": 144,
   "id": "9b8a12ff-cd4e-4372-bfef-a26d2bf9bff7",
   "metadata": {
    "tags": []
   },
   "outputs": [
    {
     "data": {
      "text/html": [
       "<div>\n",
       "<style scoped>\n",
       "    .dataframe tbody tr th:only-of-type {\n",
       "        vertical-align: middle;\n",
       "    }\n",
       "\n",
       "    .dataframe tbody tr th {\n",
       "        vertical-align: top;\n",
       "    }\n",
       "\n",
       "    .dataframe thead th {\n",
       "        text-align: right;\n",
       "    }\n",
       "</style>\n",
       "<table border=\"1\" class=\"dataframe\">\n",
       "  <thead>\n",
       "    <tr style=\"text-align: right;\">\n",
       "      <th></th>\n",
       "      <th>date</th>\n",
       "      <th>item_id</th>\n",
       "      <th>store_id</th>\n",
       "      <th>predicted_quantity</th>\n",
       "    </tr>\n",
       "  </thead>\n",
       "  <tbody>\n",
       "    <tr>\n",
       "      <th>0</th>\n",
       "      <td>2024-12-11</td>\n",
       "      <td>1004156</td>\n",
       "      <td>1278</td>\n",
       "      <td>5.0</td>\n",
       "    </tr>\n",
       "    <tr>\n",
       "      <th>1</th>\n",
       "      <td>2024-12-11</td>\n",
       "      <td>1023001</td>\n",
       "      <td>1278</td>\n",
       "      <td>3.0</td>\n",
       "    </tr>\n",
       "    <tr>\n",
       "      <th>2</th>\n",
       "      <td>2024-12-11</td>\n",
       "      <td>1007331</td>\n",
       "      <td>1278</td>\n",
       "      <td>5.0</td>\n",
       "    </tr>\n",
       "    <tr>\n",
       "      <th>3</th>\n",
       "      <td>2024-12-11</td>\n",
       "      <td>1008449</td>\n",
       "      <td>1205</td>\n",
       "      <td>4.0</td>\n",
       "    </tr>\n",
       "    <tr>\n",
       "      <th>4</th>\n",
       "      <td>2024-12-11</td>\n",
       "      <td>1008449</td>\n",
       "      <td>1278</td>\n",
       "      <td>5.0</td>\n",
       "    </tr>\n",
       "  </tbody>\n",
       "</table>\n",
       "</div>"
      ],
      "text/plain": [
       "         date  item_id store_id  predicted_quantity\n",
       "0  2024-12-11  1004156     1278                 5.0\n",
       "1  2024-12-11  1023001     1278                 3.0\n",
       "2  2024-12-11  1007331     1278                 5.0\n",
       "3  2024-12-11  1008449     1205                 4.0\n",
       "4  2024-12-11  1008449     1278                 5.0"
      ]
     },
     "execution_count": 144,
     "metadata": {},
     "output_type": "execute_result"
    }
   ],
   "source": [
    "#Create Regression Evaluation Dataframe\n",
    "regression_preds_df = read_bigquery_data(regression_prediction_query)\n",
    "regression_preds_df.head()"
   ]
  },
  {
   "cell_type": "code",
   "execution_count": 146,
   "id": "61f34991-42dd-465e-b6e7-281dfc5cfa40",
   "metadata": {
    "tags": []
   },
   "outputs": [
    {
     "name": "stdout",
     "output_type": "stream",
     "text": [
      "a-better-mistake-2021.aster_uat.sku_regression_quantity_prediction_data\n",
      "Table sku_regression_quantity_prediction_data created successfully in BigQuery.\n"
     ]
    }
   ],
   "source": [
    "#Create Prediction Data for Regression Model\n",
    "create_bigquery_table(regression_preds_df, PROJECT_ID, dataset_id, regression_prediction_table_id)"
   ]
  },
  {
   "cell_type": "code",
   "execution_count": 167,
   "id": "5b617100-788d-40d8-b6a8-be865b3117e5",
   "metadata": {
    "tags": []
   },
   "outputs": [],
   "source": [
    "#Blended Model Table ID\n",
    "blended_model_predictions_table_id = \"blended_predictions\""
   ]
  },
  {
   "cell_type": "code",
   "execution_count": 168,
   "id": "1df94929-d47b-415b-9592-ca8c6fa1009d",
   "metadata": {
    "tags": []
   },
   "outputs": [],
   "source": [
    "#Create a blended Model Approach\n",
    "SKU_BLENDED_MODEL_PREDICTION_PATH = \"sql/blended/quantity/blended_model_preds.sql\""
   ]
  },
  {
   "cell_type": "code",
   "execution_count": 169,
   "id": "ea1456a6-cadc-4e10-883b-b8f566032e35",
   "metadata": {
    "tags": []
   },
   "outputs": [],
   "source": [
    "blended_prediction_query = open(SKU_BLENDED_MODEL_PREDICTION_PATH).read()"
   ]
  },
  {
   "cell_type": "code",
   "execution_count": 170,
   "id": "6936d699-f541-4d67-875b-e4b87ade0091",
   "metadata": {
    "tags": []
   },
   "outputs": [
    {
     "data": {
      "text/html": [
       "<div>\n",
       "<style scoped>\n",
       "    .dataframe tbody tr th:only-of-type {\n",
       "        vertical-align: middle;\n",
       "    }\n",
       "\n",
       "    .dataframe tbody tr th {\n",
       "        vertical-align: top;\n",
       "    }\n",
       "\n",
       "    .dataframe thead th {\n",
       "        text-align: right;\n",
       "    }\n",
       "</style>\n",
       "<table border=\"1\" class=\"dataframe\">\n",
       "  <thead>\n",
       "    <tr style=\"text-align: right;\">\n",
       "      <th></th>\n",
       "      <th>date</th>\n",
       "      <th>item_id</th>\n",
       "      <th>store_id</th>\n",
       "      <th>regression_preds</th>\n",
       "      <th>upper_forecast</th>\n",
       "      <th>avg_forecast</th>\n",
       "      <th>lower_forecast</th>\n",
       "      <th>blended_avg_forecast</th>\n",
       "      <th>blended_lower_forecast</th>\n",
       "      <th>blended_upper_forecast</th>\n",
       "    </tr>\n",
       "  </thead>\n",
       "  <tbody>\n",
       "    <tr>\n",
       "      <th>0</th>\n",
       "      <td>2024-12-11</td>\n",
       "      <td>1002020</td>\n",
       "      <td>1278</td>\n",
       "      <td>2.0</td>\n",
       "      <td>3.9</td>\n",
       "      <td>2.7</td>\n",
       "      <td>1.6</td>\n",
       "      <td>2.35</td>\n",
       "      <td>1.8</td>\n",
       "      <td>2.95</td>\n",
       "    </tr>\n",
       "    <tr>\n",
       "      <th>1</th>\n",
       "      <td>2024-12-11</td>\n",
       "      <td>1002020</td>\n",
       "      <td>1278</td>\n",
       "      <td>2.0</td>\n",
       "      <td>3.9</td>\n",
       "      <td>2.7</td>\n",
       "      <td>1.6</td>\n",
       "      <td>2.35</td>\n",
       "      <td>1.8</td>\n",
       "      <td>2.95</td>\n",
       "    </tr>\n",
       "    <tr>\n",
       "      <th>2</th>\n",
       "      <td>2024-12-11</td>\n",
       "      <td>1004156</td>\n",
       "      <td>1119</td>\n",
       "      <td>2.0</td>\n",
       "      <td>8.0</td>\n",
       "      <td>3.6</td>\n",
       "      <td>-0.8</td>\n",
       "      <td>2.80</td>\n",
       "      <td>0.6</td>\n",
       "      <td>5.00</td>\n",
       "    </tr>\n",
       "    <tr>\n",
       "      <th>3</th>\n",
       "      <td>2024-12-11</td>\n",
       "      <td>1004156</td>\n",
       "      <td>1213</td>\n",
       "      <td>2.0</td>\n",
       "      <td>6.9</td>\n",
       "      <td>3.1</td>\n",
       "      <td>-0.6</td>\n",
       "      <td>2.55</td>\n",
       "      <td>0.7</td>\n",
       "      <td>4.45</td>\n",
       "    </tr>\n",
       "    <tr>\n",
       "      <th>4</th>\n",
       "      <td>2024-12-11</td>\n",
       "      <td>1005934</td>\n",
       "      <td>1278</td>\n",
       "      <td>2.0</td>\n",
       "      <td>4.0</td>\n",
       "      <td>3.0</td>\n",
       "      <td>2.0</td>\n",
       "      <td>2.50</td>\n",
       "      <td>2.0</td>\n",
       "      <td>3.00</td>\n",
       "    </tr>\n",
       "  </tbody>\n",
       "</table>\n",
       "</div>"
      ],
      "text/plain": [
       "         date  item_id store_id  regression_preds  upper_forecast  \\\n",
       "0  2024-12-11  1002020     1278               2.0             3.9   \n",
       "1  2024-12-11  1002020     1278               2.0             3.9   \n",
       "2  2024-12-11  1004156     1119               2.0             8.0   \n",
       "3  2024-12-11  1004156     1213               2.0             6.9   \n",
       "4  2024-12-11  1005934     1278               2.0             4.0   \n",
       "\n",
       "   avg_forecast  lower_forecast  blended_avg_forecast  blended_lower_forecast  \\\n",
       "0           2.7             1.6                  2.35                     1.8   \n",
       "1           2.7             1.6                  2.35                     1.8   \n",
       "2           3.6            -0.8                  2.80                     0.6   \n",
       "3           3.1            -0.6                  2.55                     0.7   \n",
       "4           3.0             2.0                  2.50                     2.0   \n",
       "\n",
       "   blended_upper_forecast  \n",
       "0                    2.95  \n",
       "1                    2.95  \n",
       "2                    5.00  \n",
       "3                    4.45  \n",
       "4                    3.00  "
      ]
     },
     "execution_count": 170,
     "metadata": {},
     "output_type": "execute_result"
    }
   ],
   "source": [
    "blended_preds_df = read_bigquery_data(blended_prediction_query)\n",
    "blended_preds_df.head()"
   ]
  },
  {
   "cell_type": "code",
   "execution_count": 171,
   "id": "c0cd2fdf-70ea-4ee4-8839-7b852ae9bd67",
   "metadata": {
    "tags": []
   },
   "outputs": [
    {
     "name": "stdout",
     "output_type": "stream",
     "text": [
      "a-better-mistake-2021.aster_uat.blended_predictions\n",
      "Table blended_predictions created successfully in BigQuery.\n"
     ]
    }
   ],
   "source": [
    "#Save Blended Predictions to BigQuery Table\n",
    "create_bigquery_table(blended_preds_df , PROJECT_ID, dataset_id, blended_model_predictions_table_id )"
   ]
  },
  {
   "cell_type": "code",
   "execution_count": 172,
   "id": "b03fd785-0ddb-4ded-8a90-135686d78c86",
   "metadata": {
    "tags": []
   },
   "outputs": [],
   "source": [
    "#Evaluate Blended Model\n",
    "blended_model_evaluation_table_id = \"blended_evaluation\""
   ]
  },
  {
   "cell_type": "code",
   "execution_count": 173,
   "id": "4a6417c7-a015-4509-a210-839f8a4df61c",
   "metadata": {
    "tags": []
   },
   "outputs": [],
   "source": [
    "#Create blended model path \n",
    "BLENDED_MODEL_EVALUATION_PATH = \"sql/blended/quantity/blended_model_eval.sql\""
   ]
  },
  {
   "cell_type": "code",
   "execution_count": 174,
   "id": "72105d12-9aa0-44d4-bcda-c199108e1bd6",
   "metadata": {
    "tags": []
   },
   "outputs": [],
   "source": [
    "blended_evaluation_query = open(BLENDED_MODEL_EVALUATION_PATH).read()"
   ]
  },
  {
   "cell_type": "code",
   "execution_count": 175,
   "id": "947fe9d4-0040-46cb-bb18-0f77051bfe41",
   "metadata": {
    "tags": []
   },
   "outputs": [
    {
     "data": {
      "text/html": [
       "<div>\n",
       "<style scoped>\n",
       "    .dataframe tbody tr th:only-of-type {\n",
       "        vertical-align: middle;\n",
       "    }\n",
       "\n",
       "    .dataframe tbody tr th {\n",
       "        vertical-align: top;\n",
       "    }\n",
       "\n",
       "    .dataframe thead th {\n",
       "        text-align: right;\n",
       "    }\n",
       "</style>\n",
       "<table border=\"1\" class=\"dataframe\">\n",
       "  <thead>\n",
       "    <tr style=\"text-align: right;\">\n",
       "      <th></th>\n",
       "      <th>date</th>\n",
       "      <th>real_quantity</th>\n",
       "      <th>regression_preds</th>\n",
       "      <th>upper_forecast</th>\n",
       "      <th>avg_forecast</th>\n",
       "      <th>lower_forecast</th>\n",
       "      <th>blended_avg_forecast</th>\n",
       "      <th>blended_lower_forecast</th>\n",
       "      <th>blended_upper_forecast</th>\n",
       "    </tr>\n",
       "  </thead>\n",
       "  <tbody>\n",
       "    <tr>\n",
       "      <th>0</th>\n",
       "      <td>2024-12-11</td>\n",
       "      <td>1177.0</td>\n",
       "      <td>853.0</td>\n",
       "      <td>1189.0</td>\n",
       "      <td>869.0</td>\n",
       "      <td>551.0</td>\n",
       "      <td>861.0</td>\n",
       "      <td>702.0</td>\n",
       "      <td>1021.0</td>\n",
       "    </tr>\n",
       "    <tr>\n",
       "      <th>1</th>\n",
       "      <td>2024-12-12</td>\n",
       "      <td>1470.0</td>\n",
       "      <td>1172.0</td>\n",
       "      <td>1587.0</td>\n",
       "      <td>1169.0</td>\n",
       "      <td>742.0</td>\n",
       "      <td>1171.0</td>\n",
       "      <td>957.0</td>\n",
       "      <td>1379.0</td>\n",
       "    </tr>\n",
       "    <tr>\n",
       "      <th>2</th>\n",
       "      <td>2024-12-13</td>\n",
       "      <td>1354.0</td>\n",
       "      <td>1064.0</td>\n",
       "      <td>1338.0</td>\n",
       "      <td>970.0</td>\n",
       "      <td>597.0</td>\n",
       "      <td>1017.0</td>\n",
       "      <td>830.0</td>\n",
       "      <td>1201.0</td>\n",
       "    </tr>\n",
       "    <tr>\n",
       "      <th>3</th>\n",
       "      <td>2024-12-14</td>\n",
       "      <td>1384.0</td>\n",
       "      <td>1070.0</td>\n",
       "      <td>1376.0</td>\n",
       "      <td>983.0</td>\n",
       "      <td>589.0</td>\n",
       "      <td>1026.0</td>\n",
       "      <td>830.0</td>\n",
       "      <td>1223.0</td>\n",
       "    </tr>\n",
       "    <tr>\n",
       "      <th>4</th>\n",
       "      <td>2024-12-15</td>\n",
       "      <td>1459.0</td>\n",
       "      <td>1091.0</td>\n",
       "      <td>1545.0</td>\n",
       "      <td>1083.0</td>\n",
       "      <td>624.0</td>\n",
       "      <td>1087.0</td>\n",
       "      <td>858.0</td>\n",
       "      <td>1318.0</td>\n",
       "    </tr>\n",
       "  </tbody>\n",
       "</table>\n",
       "</div>"
      ],
      "text/plain": [
       "         date  real_quantity  regression_preds  upper_forecast  avg_forecast  \\\n",
       "0  2024-12-11         1177.0             853.0          1189.0         869.0   \n",
       "1  2024-12-12         1470.0            1172.0          1587.0        1169.0   \n",
       "2  2024-12-13         1354.0            1064.0          1338.0         970.0   \n",
       "3  2024-12-14         1384.0            1070.0          1376.0         983.0   \n",
       "4  2024-12-15         1459.0            1091.0          1545.0        1083.0   \n",
       "\n",
       "   lower_forecast  blended_avg_forecast  blended_lower_forecast  \\\n",
       "0           551.0                 861.0                   702.0   \n",
       "1           742.0                1171.0                   957.0   \n",
       "2           597.0                1017.0                   830.0   \n",
       "3           589.0                1026.0                   830.0   \n",
       "4           624.0                1087.0                   858.0   \n",
       "\n",
       "   blended_upper_forecast  \n",
       "0                  1021.0  \n",
       "1                  1379.0  \n",
       "2                  1201.0  \n",
       "3                  1223.0  \n",
       "4                  1318.0  "
      ]
     },
     "execution_count": 175,
     "metadata": {},
     "output_type": "execute_result"
    }
   ],
   "source": [
    "blended_eval_df = read_bigquery_data(blended_evaluation_query)\n",
    "blended_eval_df.head()"
   ]
  },
  {
   "cell_type": "code",
   "execution_count": 177,
   "id": "bc786a55-9829-4919-9e61-2868a1bb3201",
   "metadata": {
    "tags": []
   },
   "outputs": [
    {
     "name": "stdout",
     "output_type": "stream",
     "text": [
      "a-better-mistake-2021.aster_uat.blended_evaluation\n",
      "Table blended_evaluation created successfully in BigQuery.\n"
     ]
    }
   ],
   "source": [
    "#Save blended evaluation to BigQuery Table\n",
    "create_bigquery_table(blended_preds_df , PROJECT_ID, dataset_id, blended_model_evaluation_table_id  )"
   ]
  },
  {
   "cell_type": "code",
   "execution_count": 185,
   "id": "435a00d4-949b-454e-8de3-a5fb13635ca3",
   "metadata": {
    "tags": []
   },
   "outputs": [
    {
     "data": {
      "text/plain": [
       "<Figure size 10000x6000 with 0 Axes>"
      ]
     },
     "execution_count": 185,
     "metadata": {},
     "output_type": "execute_result"
    },
    {
     "data": {
      "text/plain": [
       "<Figure size 10000x6000 with 0 Axes>"
      ]
     },
     "metadata": {},
     "output_type": "display_data"
    }
   ],
   "source": [
    "# Create the plot\n",
    "plt.figure(figsize=(100, 60)) "
   ]
  },
  {
   "cell_type": "code",
   "execution_count": 186,
   "id": "ff98da77-7855-43cd-b63d-3fd383b1dcc3",
   "metadata": {
    "tags": []
   },
   "outputs": [
    {
     "data": {
      "image/png": "[encoded data removed]",
      "text/plain": [
       "<Figure size 640x480 with 1 Axes>"
      ]
     },
     "metadata": {},
     "output_type": "display_data"
    }
   ],
   "source": [
    "# Plot the lines\n",
    "plt.plot(blended_eval_df['date'], blended_eval_df['real_quantity'], label='Real Quantity', marker='o')\n",
    "plt.plot(blended_eval_df['date'], blended_eval_df['regression_preds'], label='Regressor', linestyle='--')\n",
    "plt.plot(blended_eval_df['date'], blended_eval_df['upper_forecast'], label='Upper', linestyle='--')\n",
    "plt.plot(blended_eval_df['date'], blended_eval_df['avg_forecast'], label='Avg', linestyle='--')\n",
    "plt.plot(blended_eval_df['date'], blended_eval_df['lower_forecast'], label='Lower', linestyle='--')\n",
    "plt.plot(blended_eval_df['date'], blended_eval_df['blended_lower_forecast'], label='Blended Lower', linestyle='--')\n",
    "plt.plot(blended_eval_df['date'], blended_eval_df['blended_avg_forecast'], label='Blended Average', linestyle='--')\n",
    "plt.plot(blended_eval_df['date'], blended_eval_df['blended_upper_forecast'], label='Blended Upper', linestyle='--')\n",
    "\n",
    "# Fill between the forecast lines\n",
    "plt.fill_between(blended_eval_df['date'], blended_eval_df['lower_forecast'], blended_eval_df['upper_forecast'], color='gray', alpha=0.2)\n",
    "\n",
    "# Add labels and title\n",
    "plt.xlabel('Date')\n",
    "plt.ylabel('Quantity')\n",
    "plt.title('Quantity Forecast')\n",
    "plt.legend()\n",
    "\n",
    "# Format the x-axis (optional)\n",
    "plt.xticks(rotation=45)\n",
    "\n",
    "# Show the plot\n",
    "plt.tight_layout()\n",
    "plt.show()"
   ]
  },
  {
   "cell_type": "code",
   "execution_count": null,
   "id": "10fbea56-0b09-4d10-9694-18e3a8e09fe0",
   "metadata": {},
   "outputs": [],
   "source": []
  }
 ],
 "metadata": {
  "environment": {
   "kernel": "python3",
   "name": "tf2-cpu.2-11.m113",
   "type": "gcloud",
   "uri": "gcr.io/deeplearning-platform-release/tf2-cpu.2-11:m113"
  },
  "kernelspec": {
   "display_name": "Python 3",
   "language": "python",
   "name": "python3"
  },
  "language_info": {
   "codemirror_mode": {
    "name": "ipython",
    "version": 3
   },
   "file_extension": ".py",
   "mimetype": "text/x-python",
   "name": "python",
   "nbconvert_exporter": "python",
   "pygments_lexer": "ipython3",
   "version": "3.10.13"
  }
 },
 "nbformat": 4,
 "nbformat_minor": 5
}
