{
 "cells": [
  {
   "cell_type": "code",
   "execution_count": 268,
   "metadata": {},
   "outputs": [],
   "source": [
    "import os\n",
    "import datetime\n",
    "import time\n",
    "import matplotlib as mpl\n",
    "import matplotlib.pyplot as plt\n",
    "import numpy as np\n",
    "import pandas as pd\n",
    "import seaborn as sns\n",
    "import tensorflow as tf\n",
    "\n",
    "\n",
    "from sklearn.preprocessing import MinMaxScaler\n",
    "from sklearn.preprocessing import StandardScaler\n",
    "from keras.preprocessing.sequence import TimeseriesGenerator"
   ]
  },
  {
   "cell_type": "markdown",
   "metadata": {},
   "source": [
    "# Helper Functions"
   ]
  },
  {
   "cell_type": "code",
   "execution_count": 269,
   "metadata": {},
   "outputs": [],
   "source": [
    "#Clean the currency column to make it a float\n",
    "#The Revenue column is a string so we need to convert to floatdef clean_currency(x):\n",
    "def clean_currency(x):\n",
    "    \"\"\" If the value is a string, then remove currency symbol and delimiters\n",
    "    otherwise, the value is numeric and can be converted\n",
    "    \"\"\"\n",
    "    if isinstance(x, str):\n",
    "        return(x.replace('€', '').replace(',', ''))\n",
    "    return(x)"
   ]
  },
  {
   "cell_type": "markdown",
   "metadata": {},
   "source": [
    "# Data Preperation"
   ]
  },
  {
   "cell_type": "code",
   "execution_count": 270,
   "metadata": {},
   "outputs": [],
   "source": [
    "df = pd.read_csv(\"data/20200701.csv\")"
   ]
  },
  {
   "cell_type": "code",
   "execution_count": 271,
   "metadata": {},
   "outputs": [
    {
     "data": {
      "text/html": [
       "<div>\n",
       "<style scoped>\n",
       "    .dataframe tbody tr th:only-of-type {\n",
       "        vertical-align: middle;\n",
       "    }\n",
       "\n",
       "    .dataframe tbody tr th {\n",
       "        vertical-align: top;\n",
       "    }\n",
       "\n",
       "    .dataframe thead th {\n",
       "        text-align: right;\n",
       "    }\n",
       "</style>\n",
       "<table border=\"1\" class=\"dataframe\">\n",
       "  <thead>\n",
       "    <tr style=\"text-align: right;\">\n",
       "      <th></th>\n",
       "      <th>Date</th>\n",
       "      <th>Actuals Rev</th>\n",
       "    </tr>\n",
       "  </thead>\n",
       "  <tbody>\n",
       "    <tr>\n",
       "      <th>0</th>\n",
       "      <td>2020-07-01</td>\n",
       "      <td>€599,023</td>\n",
       "    </tr>\n",
       "    <tr>\n",
       "      <th>1</th>\n",
       "      <td>2020-07-02</td>\n",
       "      <td>€626,646</td>\n",
       "    </tr>\n",
       "    <tr>\n",
       "      <th>2</th>\n",
       "      <td>2020-07-03</td>\n",
       "      <td>€625,228</td>\n",
       "    </tr>\n",
       "    <tr>\n",
       "      <th>3</th>\n",
       "      <td>2020-07-04</td>\n",
       "      <td>€470,988</td>\n",
       "    </tr>\n",
       "    <tr>\n",
       "      <th>4</th>\n",
       "      <td>2020-07-05</td>\n",
       "      <td>€537,747</td>\n",
       "    </tr>\n",
       "  </tbody>\n",
       "</table>\n",
       "</div>"
      ],
      "text/plain": [
       "         Date Actuals Rev\n",
       "0  2020-07-01    €599,023\n",
       "1  2020-07-02    €626,646\n",
       "2  2020-07-03    €625,228\n",
       "3  2020-07-04    €470,988\n",
       "4  2020-07-05    €537,747"
      ]
     },
     "execution_count": 271,
     "metadata": {},
     "output_type": "execute_result"
    }
   ],
   "source": [
    "df.head()"
   ]
  },
  {
   "cell_type": "code",
   "execution_count": 272,
   "metadata": {},
   "outputs": [
    {
     "name": "stdout",
     "output_type": "stream",
     "text": [
      "<class 'pandas.core.frame.DataFrame'>\n",
      "RangeIndex: 27 entries, 0 to 26\n",
      "Data columns (total 2 columns):\n",
      " #   Column       Non-Null Count  Dtype \n",
      "---  ------       --------------  ----- \n",
      " 0   Date         27 non-null     object\n",
      " 1   Actuals Rev  27 non-null     object\n",
      "dtypes: object(2)\n",
      "memory usage: 560.0+ bytes\n"
     ]
    }
   ],
   "source": [
    "df.info()"
   ]
  },
  {
   "cell_type": "code",
   "execution_count": 273,
   "metadata": {},
   "outputs": [],
   "source": [
    "#Convert Date column to timestamp\n",
    "df.set_index('Date',inplace=True)"
   ]
  },
  {
   "cell_type": "code",
   "execution_count": 274,
   "metadata": {},
   "outputs": [],
   "source": [
    "df.index = pd.to_datetime(df.index)"
   ]
  },
  {
   "cell_type": "code",
   "execution_count": 275,
   "metadata": {},
   "outputs": [
    {
     "data": {
      "text/plain": [
       "1593648000"
      ]
     },
     "execution_count": 275,
     "metadata": {},
     "output_type": "execute_result"
    }
   ],
   "source": [
    "int(time.mktime(df.index[1].timetuple()))"
   ]
  },
  {
   "cell_type": "code",
   "execution_count": 276,
   "metadata": {},
   "outputs": [],
   "source": [
    "#Convert timestamp to int for TensorFlow Dataset\n",
    "def timestamp_to_int(timestamp):\n",
    "    print(timestamp)\n",
    "    int_time = int(time.mktime(df.index[timestamp].timetuple()))\n",
    "    return int_time"
   ]
  },
  {
   "cell_type": "code",
   "execution_count": 277,
   "metadata": {},
   "outputs": [],
   "source": [
    "def int_to_timestamp(timestamp):\n",
    "    #datetime.datetime.fromtimestamp(1593648000)\n",
    "    return datetime.datetime.fromtimestamp(timestamp)"
   ]
  },
  {
   "cell_type": "code",
   "execution_count": 278,
   "metadata": {},
   "outputs": [],
   "source": [
    "time_in_int = []\n",
    "for i in range(len(df.index)):\n",
    "    int_t = int(time.mktime(df.index[i].timetuple()))\n",
    "    time_in_int.append(int_t)"
   ]
  },
  {
   "cell_type": "code",
   "execution_count": 279,
   "metadata": {},
   "outputs": [
    {
     "data": {
      "text/html": [
       "<div>\n",
       "<style scoped>\n",
       "    .dataframe tbody tr th:only-of-type {\n",
       "        vertical-align: middle;\n",
       "    }\n",
       "\n",
       "    .dataframe tbody tr th {\n",
       "        vertical-align: top;\n",
       "    }\n",
       "\n",
       "    .dataframe thead th {\n",
       "        text-align: right;\n",
       "    }\n",
       "</style>\n",
       "<table border=\"1\" class=\"dataframe\">\n",
       "  <thead>\n",
       "    <tr style=\"text-align: right;\">\n",
       "      <th></th>\n",
       "      <th>Actuals Rev</th>\n",
       "      <th>int_time</th>\n",
       "    </tr>\n",
       "    <tr>\n",
       "      <th>Date</th>\n",
       "      <th></th>\n",
       "      <th></th>\n",
       "    </tr>\n",
       "  </thead>\n",
       "  <tbody>\n",
       "    <tr>\n",
       "      <th>2020-07-01</th>\n",
       "      <td>€599,023</td>\n",
       "      <td>1593561600</td>\n",
       "    </tr>\n",
       "    <tr>\n",
       "      <th>2020-07-02</th>\n",
       "      <td>€626,646</td>\n",
       "      <td>1593648000</td>\n",
       "    </tr>\n",
       "    <tr>\n",
       "      <th>2020-07-03</th>\n",
       "      <td>€625,228</td>\n",
       "      <td>1593734400</td>\n",
       "    </tr>\n",
       "    <tr>\n",
       "      <th>2020-07-04</th>\n",
       "      <td>€470,988</td>\n",
       "      <td>1593820800</td>\n",
       "    </tr>\n",
       "    <tr>\n",
       "      <th>2020-07-05</th>\n",
       "      <td>€537,747</td>\n",
       "      <td>1593907200</td>\n",
       "    </tr>\n",
       "  </tbody>\n",
       "</table>\n",
       "</div>"
      ],
      "text/plain": [
       "           Actuals Rev    int_time\n",
       "Date                              \n",
       "2020-07-01    €599,023  1593561600\n",
       "2020-07-02    €626,646  1593648000\n",
       "2020-07-03    €625,228  1593734400\n",
       "2020-07-04    €470,988  1593820800\n",
       "2020-07-05    €537,747  1593907200"
      ]
     },
     "execution_count": 279,
     "metadata": {},
     "output_type": "execute_result"
    }
   ],
   "source": [
    "df[\"int_time\"] = time_in_int\n",
    "df.head()"
   ]
  },
  {
   "cell_type": "code",
   "execution_count": 280,
   "metadata": {},
   "outputs": [],
   "source": [
    "df.set_index('int_time',inplace=True)"
   ]
  },
  {
   "cell_type": "code",
   "execution_count": 281,
   "metadata": {},
   "outputs": [],
   "source": [
    "#Convert Revenue column to Float\n",
    "df[\"Actuals Rev\"] = df['Actuals Rev'].apply(clean_currency).astype('float')"
   ]
  },
  {
   "cell_type": "code",
   "execution_count": 282,
   "metadata": {},
   "outputs": [
    {
     "name": "stdout",
     "output_type": "stream",
     "text": [
      "<class 'pandas.core.frame.DataFrame'>\n",
      "Int64Index: 27 entries, 1593561600 to 1595808000\n",
      "Data columns (total 1 columns):\n",
      " #   Column       Non-Null Count  Dtype  \n",
      "---  ------       --------------  -----  \n",
      " 0   Actuals Rev  27 non-null     float64\n",
      "dtypes: float64(1)\n",
      "memory usage: 432.0 bytes\n"
     ]
    }
   ],
   "source": [
    "df.info()"
   ]
  },
  {
   "cell_type": "markdown",
   "metadata": {},
   "source": [
    "# Data Visualization"
   ]
  },
  {
   "cell_type": "code",
   "execution_count": 283,
   "metadata": {},
   "outputs": [
    {
     "data": {
      "text/plain": [
       "<AxesSubplot:xlabel='int_time', ylabel='Actuals Rev'>"
      ]
     },
     "execution_count": 283,
     "metadata": {},
     "output_type": "execute_result"
    },
    {
     "data": {
      "image/png": "[encoded data removed]",
      "text/plain": [
       "<Figure size 1440x432 with 1 Axes>"
      ]
     },
     "metadata": {
      "needs_background": "light"
     },
     "output_type": "display_data"
    }
   ],
   "source": [
    "fig_dims = (20,6)\n",
    "fig, ax = plt.subplots(figsize=fig_dims)\n",
    "plt.xlabel(\"Date\",fontsize=10)\n",
    "plt.xticks(fontsize=10)\n",
    "sns.lineplot(x=df.index,y=\"Actuals Rev\",data=df)"
   ]
  },
  {
   "cell_type": "markdown",
   "metadata": {},
   "source": [
    "# Tensorflow Model"
   ]
  },
  {
   "cell_type": "code",
   "execution_count": 284,
   "metadata": {},
   "outputs": [],
   "source": [
    "column_indices = {name: i for i, name in enumerate(df.columns)}\n",
    "\n",
    "n = len(df)\n",
    "train_df = df[0:int(n*0.7)]\n",
    "val_df = df[int(n*0.7):int(n*0.9)]\n",
    "test_df = df[int(n*0.9):]\n",
    "\n",
    "num_features = df.shape[1]"
   ]
  },
  {
   "cell_type": "markdown",
   "metadata": {},
   "source": [
    "## Preparing Training and Test Data"
   ]
  },
  {
   "cell_type": "code",
   "execution_count": 285,
   "metadata": {},
   "outputs": [],
   "source": [
    "train_data = df[0:17]\n",
    "test_data = df[17:]\n",
    "val_data = df[17:]#Change this to a different dataset in the future"
   ]
  },
  {
   "cell_type": "markdown",
   "metadata": {},
   "source": [
    "## Scaling the data"
   ]
  },
  {
   "cell_type": "code",
   "execution_count": 286,
   "metadata": {},
   "outputs": [],
   "source": [
    "from sklearn.preprocessing import StandardScaler\n",
    "from sklearn.preprocessing import MinMaxScaler"
   ]
  },
  {
   "cell_type": "code",
   "execution_count": 287,
   "metadata": {},
   "outputs": [],
   "source": [
    "stnd_scaler = StandardScaler()"
   ]
  },
  {
   "cell_type": "code",
   "execution_count": 288,
   "metadata": {},
   "outputs": [],
   "source": [
    "scaled_train = stnd_scaler.fit_transform(train_data)\n",
    "scaled_test = stnd_scaler.fit_transform(test_data)\n",
    "scaled_val = stnd_scaler.fit_transform(val_data)"
   ]
  },
  {
   "cell_type": "markdown",
   "metadata": {},
   "source": [
    "## Create the tensorflow dataset from timeseries"
   ]
  },
  {
   "cell_type": "code",
   "execution_count": 289,
   "metadata": {},
   "outputs": [],
   "source": [
    "tf_data = tf.keras.preprocessing.timeseries_dataset_from_array(\n",
    "\n",
    "      data = scaled_train,\n",
    "      targets=None,\n",
    "      sequence_length = 10,\n",
    "      sequence_stride = 1,\n",
    "      shuffle = True,\n",
    "      batch_size = 2\n",
    ")"
   ]
  },
  {
   "cell_type": "markdown",
   "metadata": {},
   "source": [
    "## Create Windowing"
   ]
  },
  {
   "cell_type": "code",
   "execution_count": 290,
   "metadata": {},
   "outputs": [],
   "source": [
    "class WindowGenerator():\n",
    "  def __init__(self, input_width, label_width, shift,\n",
    "               train_df=train_data, val_df=val_data, test_df=test_data,\n",
    "               label_columns=None):\n",
    "    # Store the raw data.\n",
    "    self.train_df = train_df\n",
    "    self.val_df = val_df\n",
    "    self.test_df = test_df\n",
    "\n",
    "    # Work out the label column indices.\n",
    "    self.label_columns = label_columns\n",
    "    if label_columns is not None:\n",
    "      self.label_columns_indices = {name: i for i, name in\n",
    "                                    enumerate(label_columns)}\n",
    "    self.column_indices = {name: i for i, name in\n",
    "                           enumerate(train_df.columns)}\n",
    "\n",
    "    # Work out the window parameters.\n",
    "    self.input_width = input_width\n",
    "    self.label_width = label_width\n",
    "    self.shift = shift\n",
    "\n",
    "    self.total_window_size = input_width + shift\n",
    "\n",
    "    self.input_slice = slice(0, input_width)\n",
    "    self.input_indices = np.arange(self.total_window_size)[self.input_slice]\n",
    "\n",
    "    self.label_start = self.total_window_size - self.label_width\n",
    "    self.labels_slice = slice(self.label_start, None)\n",
    "    self.label_indices = np.arange(self.total_window_size)[self.labels_slice]\n",
    "\n",
    "  def __repr__(self):\n",
    "    return '\\n'.join([\n",
    "        f'Total window size: {self.total_window_size}',\n",
    "        f'Input indices: {self.input_indices}',\n",
    "        f'Label indices: {self.label_indices}',\n",
    "        f'Label column name(s): {self.label_columns}'])"
   ]
  },
  {
   "cell_type": "code",
   "execution_count": 291,
   "metadata": {},
   "outputs": [
    {
     "data": {
      "text/plain": [
       "Total window size: 48\n",
       "Input indices: [ 0  1  2  3  4  5  6  7  8  9 10 11 12 13 14 15 16 17 18 19 20 21 22 23]\n",
       "Label indices: [47]\n",
       "Label column name(s): ['Actuals Rev']"
      ]
     },
     "execution_count": 291,
     "metadata": {},
     "output_type": "execute_result"
    }
   ],
   "source": [
    "w1 = WindowGenerator(input_width=24, label_width=1, shift=24,\n",
    "                     label_columns=['Actuals Rev'])\n",
    "w1"
   ]
  },
  {
   "cell_type": "code",
   "execution_count": 292,
   "metadata": {},
   "outputs": [
    {
     "data": {
      "text/plain": [
       "Total window size: 7\n",
       "Input indices: [0 1 2 3 4 5]\n",
       "Label indices: [6]\n",
       "Label column name(s): ['Actuals Rev']"
      ]
     },
     "execution_count": 292,
     "metadata": {},
     "output_type": "execute_result"
    }
   ],
   "source": [
    "w2 = WindowGenerator(input_width=6, label_width=1, shift=1,\n",
    "                     label_columns=['Actuals Rev'])\n",
    "w2"
   ]
  },
  {
   "cell_type": "code",
   "execution_count": 293,
   "metadata": {},
   "outputs": [],
   "source": [
    "def split_window(self, features):\n",
    "  inputs = features[:, self.input_slice, :]\n",
    "  labels = features[:, self.labels_slice, :]\n",
    "  if self.label_columns is not None:\n",
    "    labels = tf.stack(\n",
    "        [labels[:, :, self.column_indices[name]] for name in self.label_columns],\n",
    "        axis=-1)\n",
    "\n",
    "  # Slicing doesn't preserve static shape information, so set the shapes\n",
    "  # manually. This way the `tf.data.Datasets` are easier to inspect.\n",
    "  inputs.set_shape([None, self.input_width, None])\n",
    "  labels.set_shape([None, self.label_width, None])\n",
    "\n",
    "  return inputs, labels\n",
    "\n",
    "WindowGenerator.split_window = split_window"
   ]
  },
  {
   "cell_type": "code",
   "execution_count": 294,
   "metadata": {},
   "outputs": [
    {
     "name": "stdout",
     "output_type": "stream",
     "text": [
      "All shapes are: (batch, time, features)\n",
      "Window shape: (3, 7, 1)\n",
      "Inputs shape: (3, 6, 1)\n",
      "labels shape: (3, 1, 1)\n"
     ]
    }
   ],
   "source": [
    "# Stack three slices, the length of the total window:\n",
    "example_window = tf.stack([np.array(scaled_train[:w2.total_window_size]),\n",
    "                           np.array(scaled_train[7:7+w2.total_window_size]),\n",
    "                           np.array(scaled_train[10:10+w2.total_window_size])])\n",
    "\n",
    "\n",
    "example_inputs, example_labels = w2.split_window(example_window)\n",
    "\n",
    "print('All shapes are: (batch, time, features)')\n",
    "print(f'Window shape: {example_window.shape}')\n",
    "print(f'Inputs shape: {example_inputs.shape}')\n",
    "print(f'labels shape: {example_labels.shape}')"
   ]
  },
  {
   "cell_type": "markdown",
   "metadata": {},
   "source": [
    "## Plotting the data"
   ]
  },
  {
   "cell_type": "code",
   "execution_count": 295,
   "metadata": {},
   "outputs": [],
   "source": [
    "w2.example = example_inputs, example_labels"
   ]
  },
  {
   "cell_type": "code",
   "execution_count": 296,
   "metadata": {},
   "outputs": [],
   "source": [
    "def plot(self, model=None, plot_col='Actuals Rev', max_subplots=3):\n",
    "  inputs, labels = self.example\n",
    "  plt.figure(figsize=(12, 8))\n",
    "  plot_col_index = self.column_indices[plot_col]\n",
    "  max_n = min(max_subplots, len(inputs))\n",
    "  for n in range(max_n):\n",
    "    plt.subplot(3, 1, n+1)\n",
    "    plt.ylabel(f'{plot_col} [normed]')\n",
    "    plt.plot(self.input_indices, inputs[n, :, plot_col_index],\n",
    "             label='Inputs', marker='.', zorder=-10)\n",
    "\n",
    "    if self.label_columns:\n",
    "      label_col_index = self.label_columns_indices.get(plot_col, None)\n",
    "    else:\n",
    "      label_col_index = plot_col_index\n",
    "\n",
    "    if label_col_index is None:\n",
    "      continue\n",
    "\n",
    "    plt.scatter(self.label_indices, labels[n, :, label_col_index],\n",
    "                edgecolors='k', label='Labels', c='#2ca02c', s=64)\n",
    "    if model is not None:\n",
    "      predictions = model(inputs)\n",
    "      plt.scatter(self.label_indices, predictions[n, :, label_col_index],\n",
    "                  marker='X', edgecolors='k', label='Predictions',\n",
    "                  c='#ff7f0e', s=64)\n",
    "\n",
    "    if n == 0:\n",
    "      plt.legend()\n",
    "\n",
    "  plt.xlabel('Time [h]')\n",
    "\n",
    "WindowGenerator.plot = plot"
   ]
  },
  {
   "cell_type": "code",
   "execution_count": 297,
   "metadata": {},
   "outputs": [
    {
     "data": {
      "image/png": "[encoded data removed]",
      "text/plain": [
       "<Figure size 864x576 with 3 Axes>"
      ]
     },
     "metadata": {
      "needs_background": "light"
     },
     "output_type": "display_data"
    }
   ],
   "source": [
    "w2.plot()"
   ]
  },
  {
   "cell_type": "markdown",
   "metadata": {},
   "source": [
    "## Create a dataset using Tensorflow"
   ]
  },
  {
   "cell_type": "code",
   "execution_count": 298,
   "metadata": {},
   "outputs": [],
   "source": [
    "def make_dataset(self, data):\n",
    "  data = np.array(data, dtype=np.float32)\n",
    "  ds = tf.keras.preprocessing.timeseries_dataset_from_array(\n",
    "      data=data,\n",
    "      targets=None,\n",
    "      sequence_length=self.total_window_size,\n",
    "      sequence_stride=1,\n",
    "      shuffle=True,\n",
    "      batch_size=32,)\n",
    "\n",
    "  ds = ds.map(self.split_window)\n",
    "\n",
    "  return ds\n",
    "\n",
    "WindowGenerator.make_dataset = make_dataset"
   ]
  },
  {
   "cell_type": "code",
   "execution_count": 299,
   "metadata": {},
   "outputs": [],
   "source": [
    "@property\n",
    "def train(self):\n",
    "  return self.make_dataset(self.train_df)\n",
    "\n",
    "@property\n",
    "def val(self):\n",
    "  return self.make_dataset(self.val_df)\n",
    "\n",
    "@property\n",
    "def test(self):\n",
    "  return self.make_dataset(self.test_df)\n",
    "\n",
    "@property\n",
    "def example(self):\n",
    "  \"\"\"Get and cache an example batch of `inputs, labels` for plotting.\"\"\"\n",
    "  result = getattr(self, '_example', None)\n",
    "  if result is None:\n",
    "    # No example batch was found, so get one from the `.train` dataset\n",
    "    result = next(iter(self.train))\n",
    "    # And cache it for next time\n",
    "    self._example = result\n",
    "  return result\n",
    "\n",
    "WindowGenerator.train = train\n",
    "WindowGenerator.val = val\n",
    "WindowGenerator.test = test\n",
    "WindowGenerator.example = example"
   ]
  },
  {
   "cell_type": "code",
   "execution_count": 300,
   "metadata": {},
   "outputs": [
    {
     "data": {
      "text/plain": [
       "(TensorSpec(shape=(None, 6, 1), dtype=tf.float32, name=None),\n",
       " TensorSpec(shape=(None, 1, 1), dtype=tf.float32, name=None))"
      ]
     },
     "execution_count": 300,
     "metadata": {},
     "output_type": "execute_result"
    }
   ],
   "source": [
    "# Each element is an (inputs, label) pair\n",
    "w2.train.element_spec"
   ]
  },
  {
   "cell_type": "code",
   "execution_count": 301,
   "metadata": {},
   "outputs": [
    {
     "name": "stdout",
     "output_type": "stream",
     "text": [
      "Inputs shape (batch, time, features): (11, 6, 1)\n",
      "Labels shape (batch, time, features): (11, 1, 1)\n"
     ]
    }
   ],
   "source": [
    "for example_inputs, example_labels in w2.train.take(1):\n",
    "  print(f'Inputs shape (batch, time, features): {example_inputs.shape}')\n",
    "  print(f'Labels shape (batch, time, features): {example_labels.shape}')"
   ]
  },
  {
   "cell_type": "code",
   "execution_count": 302,
   "metadata": {},
   "outputs": [
    {
     "data": {
      "text/plain": [
       "Total window size: 2\n",
       "Input indices: [0]\n",
       "Label indices: [1]\n",
       "Label column name(s): ['Actuals Rev']"
      ]
     },
     "execution_count": 302,
     "metadata": {},
     "output_type": "execute_result"
    }
   ],
   "source": [
    "single_step_window = WindowGenerator(\n",
    "    input_width=1, label_width=1, shift=1,\n",
    "    label_columns=['Actuals Rev'])\n",
    "single_step_window"
   ]
  },
  {
   "cell_type": "code",
   "execution_count": 303,
   "metadata": {},
   "outputs": [
    {
     "name": "stdout",
     "output_type": "stream",
     "text": [
      "Inputs shape (batch, time, features): (16, 1, 1)\n",
      "Labels shape (batch, time, features): (16, 1, 1)\n"
     ]
    }
   ],
   "source": [
    "for example_inputs, example_labels in single_step_window.train.take(1):\n",
    "  print(f'Inputs shape (batch, time, features): {example_inputs.shape}')\n",
    "  print(f'Labels shape (batch, time, features): {example_labels.shape}')"
   ]
  },
  {
   "cell_type": "markdown",
   "metadata": {},
   "source": [
    "## Baseline Model"
   ]
  },
  {
   "cell_type": "code",
   "execution_count": 304,
   "metadata": {},
   "outputs": [],
   "source": [
    "class Baseline(tf.keras.Model):\n",
    "    def __init__(self, label_index=None):\n",
    "        super().__init__()\n",
    "        self.label_index = label_index\n",
    "\n",
    "    def call(self, inputs):\n",
    "        if self.label_index is None:\n",
    "            return inputs\n",
    "        result = inputs[:, :, self.label_index]\n",
    "        return result[:, :, tf.newaxis]"
   ]
  },
  {
   "cell_type": "code",
   "execution_count": 305,
   "metadata": {},
   "outputs": [
    {
     "name": "stdout",
     "output_type": "stream",
     "text": [
      "1/1 [==============================] - 0s 1ms/step - loss: 11113241600.0000 - mean_absolute_error: 74254.7812\n"
     ]
    }
   ],
   "source": [
    "baseline = Baseline(label_index=column_indices[\"Actuals Rev\"]) # changed from label_index=column_indices['Actuals Rev'] to df[\"Actual Revs\"]\n",
    "baseline.compile(loss=tf.losses.MeanSquaredError(),\n",
    "                 metrics=[tf.metrics.MeanAbsoluteError()])\n",
    "\n",
    "val_performance = {}\n",
    "performance = {}\n",
    "val_performance['Baseline'] = baseline.evaluate(single_step_window.val)\n",
    "performance['Baseline'] = baseline.evaluate(single_step_window.test, verbose=0)"
   ]
  },
  {
   "cell_type": "code",
   "execution_count": 306,
   "metadata": {},
   "outputs": [
    {
     "data": {
      "text/plain": [
       "Total window size: 25\n",
       "Input indices: [ 0  1  2  3  4  5  6  7  8  9 10 11 12 13 14 15 16 17 18 19 20 21 22 23]\n",
       "Label indices: [ 1  2  3  4  5  6  7  8  9 10 11 12 13 14 15 16 17 18 19 20 21 22 23 24]\n",
       "Label column name(s): ['Actuals Rev']"
      ]
     },
     "execution_count": 306,
     "metadata": {},
     "output_type": "execute_result"
    }
   ],
   "source": [
    "wide_window = WindowGenerator(\n",
    "    input_width=24, label_width=24, shift=1,\n",
    "    label_columns=['Actuals Rev'])\n",
    "\n",
    "wide_window"
   ]
  },
  {
   "cell_type": "code",
   "execution_count": 307,
   "metadata": {},
   "outputs": [],
   "source": [
    "#print('Input shape:', wide_window.example[0].shape)\n",
    "#print('Output shape:', baseline(wide_window.example[0]).shape)"
   ]
  },
  {
   "cell_type": "markdown",
   "metadata": {},
   "source": [
    "## Linear Model"
   ]
  },
  {
   "cell_type": "code",
   "execution_count": 308,
   "metadata": {},
   "outputs": [],
   "source": [
    "linear = tf.keras.Sequential([\n",
    "    tf.keras.layers.Dense(units=1)\n",
    "])"
   ]
  },
  {
   "cell_type": "code",
   "execution_count": 309,
   "metadata": {},
   "outputs": [
    {
     "name": "stdout",
     "output_type": "stream",
     "text": [
      "Input shape: (16, 1, 1)\n",
      "Output shape: (16, 1, 1)\n"
     ]
    }
   ],
   "source": [
    "print('Input shape:', single_step_window.example[0].shape)\n",
    "print('Output shape:', linear(single_step_window.example[0]).shape)"
   ]
  },
  {
   "cell_type": "code",
   "execution_count": 390,
   "metadata": {},
   "outputs": [],
   "source": [
    "MAX_EPOCHS = 100\n",
    "\n",
    "def compile_and_fit(model, window, patience=2):\n",
    "  early_stopping = tf.keras.callbacks.EarlyStopping(monitor='val_loss',\n",
    "                                                    patience=patience,\n",
    "                                                    mode='min')\n",
    "\n",
    "  model.compile(loss=tf.losses.MeanSquaredError(),\n",
    "                optimizer=tf.optimizers.Adam(),\n",
    "                metrics=[tf.metrics.MeanAbsoluteError()])\n",
    "\n",
    "  history = model.fit(window.train, epochs=MAX_EPOCHS,\n",
    "                      validation_data=window.val,\n",
    "                      callbacks=[early_stopping])\n",
    "  return history"
   ]
  },
  {
   "cell_type": "code",
   "execution_count": 391,
   "metadata": {},
   "outputs": [
    {
     "name": "stdout",
     "output_type": "stream",
     "text": [
      "Epoch 1/100\n",
      "1/1 [==============================] - 0s 392ms/step - loss: 57384824832.0000 - mean_absolute_error: 222838.5625 - val_loss: 35137495040.0000 - val_mean_absolute_error: 165615.7500\n",
      "Epoch 2/100\n",
      "1/1 [==============================] - 0s 222ms/step - loss: 57191882752.0000 - mean_absolute_error: 222446.9844 - val_loss: 35063545856.0000 - val_mean_absolute_error: 165459.6094\n",
      "Epoch 3/100\n",
      "1/1 [==============================] - 0s 224ms/step - loss: 56999292928.0000 - mean_absolute_error: 222055.4219 - val_loss: 34989723648.0000 - val_mean_absolute_error: 165303.5000\n",
      "Epoch 4/100\n",
      "1/1 [==============================] - 0s 201ms/step - loss: 56807059456.0000 - mean_absolute_error: 221663.9062 - val_loss: 34916024320.0000 - val_mean_absolute_error: 165147.4062\n",
      "Epoch 5/100\n",
      "1/1 [==============================] - 0s 218ms/step - loss: 56615198720.0000 - mean_absolute_error: 221272.4375 - val_loss: 34842439680.0000 - val_mean_absolute_error: 164991.3125\n",
      "Epoch 6/100\n",
      "1/1 [==============================] - 0s 209ms/step - loss: 56423702528.0000 - mean_absolute_error: 220881.0000 - val_loss: 34768990208.0000 - val_mean_absolute_error: 164835.2812\n",
      "Epoch 7/100\n",
      "1/1 [==============================] - 0s 204ms/step - loss: 56232583168.0000 - mean_absolute_error: 220489.6250 - val_loss: 34695659520.0000 - val_mean_absolute_error: 164679.2500\n",
      "Epoch 8/100\n",
      "1/1 [==============================] - 0s 215ms/step - loss: 56041852928.0000 - mean_absolute_error: 220098.3438 - val_loss: 34622468096.0000 - val_mean_absolute_error: 164523.2656\n",
      "Epoch 9/100\n",
      "1/1 [==============================] - 0s 237ms/step - loss: 55851499520.0000 - mean_absolute_error: 219707.1562 - val_loss: 34549403648.0000 - val_mean_absolute_error: 164367.3125\n",
      "Epoch 10/100\n",
      "1/1 [==============================] - 0s 235ms/step - loss: 55661547520.0000 - mean_absolute_error: 219316.0625 - val_loss: 34476474368.0000 - val_mean_absolute_error: 164211.4219\n",
      "Epoch 11/100\n",
      "1/1 [==============================] - 0s 240ms/step - loss: 55471996928.0000 - mean_absolute_error: 218925.0938 - val_loss: 34403688448.0000 - val_mean_absolute_error: 164055.5781\n",
      "Epoch 12/100\n",
      "1/1 [==============================] - 0s 190ms/step - loss: 55282843648.0000 - mean_absolute_error: 218534.2500 - val_loss: 34331033600.0000 - val_mean_absolute_error: 163899.7812\n",
      "Epoch 13/100\n",
      "1/1 [==============================] - 0s 215ms/step - loss: 55094104064.0000 - mean_absolute_error: 218143.5312 - val_loss: 34258526208.0000 - val_mean_absolute_error: 163744.0625\n",
      "Epoch 14/100\n",
      "1/1 [==============================] - 0s 228ms/step - loss: 54905774080.0000 - mean_absolute_error: 217752.9688 - val_loss: 34186158080.0000 - val_mean_absolute_error: 163588.3750\n",
      "Epoch 15/100\n",
      "1/1 [==============================] - 0s 228ms/step - loss: 54717870080.0000 - mean_absolute_error: 217362.5625 - val_loss: 34113935360.0000 - val_mean_absolute_error: 163432.7812\n",
      "Epoch 16/100\n",
      "1/1 [==============================] - 0s 213ms/step - loss: 54530383872.0000 - mean_absolute_error: 216972.3281 - val_loss: 34041851904.0000 - val_mean_absolute_error: 163277.2344\n",
      "Epoch 17/100\n",
      "1/1 [==============================] - 0s 233ms/step - loss: 54343327744.0000 - mean_absolute_error: 216582.2656 - val_loss: 33969922048.0000 - val_mean_absolute_error: 163121.7812\n",
      "Epoch 18/100\n",
      "1/1 [==============================] - 0s 237ms/step - loss: 54156701696.0000 - mean_absolute_error: 216192.3906 - val_loss: 33898131456.0000 - val_mean_absolute_error: 162966.3906\n",
      "Epoch 19/100\n",
      "1/1 [==============================] - 0s 189ms/step - loss: 53970509824.0000 - mean_absolute_error: 215802.6875 - val_loss: 33826508800.0000 - val_mean_absolute_error: 162811.0938\n",
      "Epoch 20/100\n",
      "1/1 [==============================] - 0s 208ms/step - loss: 53784756224.0000 - mean_absolute_error: 215413.2344 - val_loss: 33755029504.0000 - val_mean_absolute_error: 162655.8750\n",
      "Epoch 21/100\n",
      "1/1 [==============================] - 0s 236ms/step - loss: 53599444992.0000 - mean_absolute_error: 215023.9688 - val_loss: 33683701760.0000 - val_mean_absolute_error: 162500.7656\n",
      "Epoch 22/100\n",
      "1/1 [==============================] - 0s 196ms/step - loss: 53414584320.0000 - mean_absolute_error: 214634.9375 - val_loss: 33612529664.0000 - val_mean_absolute_error: 162345.7188\n",
      "Epoch 23/100\n",
      "1/1 [==============================] - 0s 195ms/step - loss: 53230166016.0000 - mean_absolute_error: 214246.1250 - val_loss: 33541513216.0000 - val_mean_absolute_error: 162190.7969\n",
      "Epoch 24/100\n",
      "1/1 [==============================] - 0s 202ms/step - loss: 53046206464.0000 - mean_absolute_error: 213857.5625 - val_loss: 33470654464.0000 - val_mean_absolute_error: 162035.9375\n",
      "Epoch 25/100\n",
      "1/1 [==============================] - 0s 198ms/step - loss: 52862697472.0000 - mean_absolute_error: 213469.2188 - val_loss: 33399953408.0000 - val_mean_absolute_error: 161881.2188\n",
      "Epoch 26/100\n",
      "1/1 [==============================] - 0s 217ms/step - loss: 52679647232.0000 - mean_absolute_error: 213081.1562 - val_loss: 33329405952.0000 - val_mean_absolute_error: 161726.5625\n",
      "Epoch 27/100\n",
      "1/1 [==============================] - 0s 210ms/step - loss: 52497063936.0000 - mean_absolute_error: 212693.3438 - val_loss: 33259024384.0000 - val_mean_absolute_error: 161572.0469\n",
      "Epoch 28/100\n",
      "1/1 [==============================] - 0s 206ms/step - loss: 52314935296.0000 - mean_absolute_error: 212305.8125 - val_loss: 33188806656.0000 - val_mean_absolute_error: 161417.6406\n",
      "Epoch 29/100\n",
      "1/1 [==============================] - 0s 188ms/step - loss: 52133281792.0000 - mean_absolute_error: 211918.5312 - val_loss: 33118748672.0000 - val_mean_absolute_error: 161263.3125\n",
      "Epoch 30/100\n",
      "1/1 [==============================] - 0s 244ms/step - loss: 51952091136.0000 - mean_absolute_error: 211531.5625 - val_loss: 33048850432.0000 - val_mean_absolute_error: 161109.1250\n",
      "Epoch 31/100\n",
      "1/1 [==============================] - 0s 231ms/step - loss: 51771367424.0000 - mean_absolute_error: 211144.8438 - val_loss: 32979120128.0000 - val_mean_absolute_error: 160955.0312\n",
      "Epoch 32/100\n",
      "1/1 [==============================] - 0s 205ms/step - loss: 51591114752.0000 - mean_absolute_error: 210758.4375 - val_loss: 32909549568.0000 - val_mean_absolute_error: 160801.0625\n",
      "Epoch 33/100\n",
      "1/1 [==============================] - 0s 197ms/step - loss: 51411341312.0000 - mean_absolute_error: 210372.3125 - val_loss: 32840140800.0000 - val_mean_absolute_error: 160647.2188\n",
      "Epoch 34/100\n",
      "1/1 [==============================] - 0s 239ms/step - loss: 51232030720.0000 - mean_absolute_error: 209986.4844 - val_loss: 32770902016.0000 - val_mean_absolute_error: 160493.5000\n",
      "Epoch 35/100\n",
      "1/1 [==============================] - 0s 211ms/step - loss: 51053199360.0000 - mean_absolute_error: 209600.9688 - val_loss: 32701827072.0000 - val_mean_absolute_error: 160339.9219\n",
      "Epoch 36/100\n",
      "1/1 [==============================] - 0s 222ms/step - loss: 50874843136.0000 - mean_absolute_error: 209215.7500 - val_loss: 32632920064.0000 - val_mean_absolute_error: 160186.4375\n",
      "Epoch 37/100\n",
      "1/1 [==============================] - 0s 204ms/step - loss: 50696966144.0000 - mean_absolute_error: 208830.8594 - val_loss: 32564178944.0000 - val_mean_absolute_error: 160033.0781\n",
      "Epoch 38/100\n",
      "1/1 [==============================] - 0s 202ms/step - loss: 50519572480.0000 - mean_absolute_error: 208446.2812 - val_loss: 32495603712.0000 - val_mean_absolute_error: 159879.8594\n",
      "Epoch 39/100\n",
      "1/1 [==============================] - 0s 217ms/step - loss: 50342658048.0000 - mean_absolute_error: 208062.0000 - val_loss: 32427190272.0000 - val_mean_absolute_error: 159726.7812\n",
      "Epoch 40/100\n",
      "1/1 [==============================] - 0s 205ms/step - loss: 50166214656.0000 - mean_absolute_error: 207678.0625 - val_loss: 32358952960.0000 - val_mean_absolute_error: 159573.8125\n",
      "Epoch 41/100\n",
      "1/1 [==============================] - 0s 242ms/step - loss: 49990262784.0000 - mean_absolute_error: 207294.4688 - val_loss: 32290879488.0000 - val_mean_absolute_error: 159420.9688\n",
      "Epoch 42/100\n",
      "1/1 [==============================] - 0s 201ms/step - loss: 49814786048.0000 - mean_absolute_error: 206911.1562 - val_loss: 32222973952.0000 - val_mean_absolute_error: 159268.2812\n",
      "Epoch 43/100\n",
      "1/1 [==============================] - 0s 213ms/step - loss: 49639788544.0000 - mean_absolute_error: 206528.2188 - val_loss: 32155234304.0000 - val_mean_absolute_error: 159115.7031\n",
      "Epoch 44/100\n",
      "1/1 [==============================] - 0s 209ms/step - loss: 49465278464.0000 - mean_absolute_error: 206145.5938 - val_loss: 32087670784.0000 - val_mean_absolute_error: 158963.2812\n",
      "Epoch 45/100\n",
      "1/1 [==============================] - 0s 242ms/step - loss: 49291247616.0000 - mean_absolute_error: 205763.3125 - val_loss: 32020267008.0000 - val_mean_absolute_error: 158810.9844\n",
      "Epoch 46/100\n",
      "1/1 [==============================] - 0s 187ms/step - loss: 49117700096.0000 - mean_absolute_error: 205381.3750 - val_loss: 31953035264.0000 - val_mean_absolute_error: 158658.8125\n",
      "Epoch 47/100\n",
      "1/1 [==============================] - 0s 213ms/step - loss: 48944635904.0000 - mean_absolute_error: 204999.7812 - val_loss: 31885969408.0000 - val_mean_absolute_error: 158506.7969\n",
      "Epoch 48/100\n",
      "1/1 [==============================] - 0s 191ms/step - loss: 48772046848.0000 - mean_absolute_error: 204618.5000 - val_loss: 31819075584.0000 - val_mean_absolute_error: 158354.9062\n",
      "Epoch 49/100\n",
      "1/1 [==============================] - 0s 206ms/step - loss: 48599945216.0000 - mean_absolute_error: 204237.5938 - val_loss: 31752345600.0000 - val_mean_absolute_error: 158203.1562\n",
      "Epoch 50/100\n",
      "1/1 [==============================] - 0s 228ms/step - loss: 48428326912.0000 - mean_absolute_error: 203857.0312 - val_loss: 31685793792.0000 - val_mean_absolute_error: 158051.5625\n",
      "Epoch 51/100\n",
      "1/1 [==============================] - 0s 220ms/step - loss: 48257196032.0000 - mean_absolute_error: 203476.8125 - val_loss: 31619401728.0000 - val_mean_absolute_error: 157900.0781\n",
      "Epoch 52/100\n",
      "1/1 [==============================] - 0s 199ms/step - loss: 48086540288.0000 - mean_absolute_error: 203096.9375 - val_loss: 31553177600.0000 - val_mean_absolute_error: 157748.7656\n",
      "Epoch 53/100\n",
      "1/1 [==============================] - 0s 203ms/step - loss: 47916367872.0000 - mean_absolute_error: 202717.4375 - val_loss: 31487121408.0000 - val_mean_absolute_error: 157597.5625\n",
      "Epoch 54/100\n",
      "1/1 [==============================] - 0s 196ms/step - loss: 47746674688.0000 - mean_absolute_error: 202338.2656 - val_loss: 31421239296.0000 - val_mean_absolute_error: 157446.5156\n",
      "Epoch 55/100\n",
      "1/1 [==============================] - 0s 193ms/step - loss: 47577460736.0000 - mean_absolute_error: 201959.4375 - val_loss: 31355521024.0000 - val_mean_absolute_error: 157295.6094\n",
      "Epoch 56/100\n",
      "1/1 [==============================] - 0s 240ms/step - loss: 47408730112.0000 - mean_absolute_error: 201580.9844 - val_loss: 31289970688.0000 - val_mean_absolute_error: 157144.8594\n",
      "Epoch 57/100\n",
      "1/1 [==============================] - 0s 207ms/step - loss: 47240482816.0000 - mean_absolute_error: 201202.8750 - val_loss: 31224586240.0000 - val_mean_absolute_error: 156994.2344\n",
      "Epoch 58/100\n",
      "1/1 [==============================] - 0s 224ms/step - loss: 47072714752.0000 - mean_absolute_error: 200825.1562 - val_loss: 31159377920.0000 - val_mean_absolute_error: 156843.7500\n",
      "Epoch 59/100\n",
      "1/1 [==============================] - 0s 203ms/step - loss: 46905425920.0000 - mean_absolute_error: 200447.7812 - val_loss: 31094331392.0000 - val_mean_absolute_error: 156693.4375\n",
      "Epoch 60/100\n",
      "1/1 [==============================] - 0s 209ms/step - loss: 46738612224.0000 - mean_absolute_error: 200070.7500 - val_loss: 31029450752.0000 - val_mean_absolute_error: 156543.2188\n",
      "Epoch 61/100\n",
      "1/1 [==============================] - 0s 205ms/step - loss: 46572273664.0000 - mean_absolute_error: 199694.0781 - val_loss: 30964740096.0000 - val_mean_absolute_error: 156393.1719\n",
      "Epoch 62/100\n",
      "1/1 [==============================] - 0s 234ms/step - loss: 46406414336.0000 - mean_absolute_error: 199317.7656 - val_loss: 30900199424.0000 - val_mean_absolute_error: 156243.2656\n",
      "Epoch 63/100\n",
      "1/1 [==============================] - 0s 176ms/step - loss: 46241038336.0000 - mean_absolute_error: 198941.8281 - val_loss: 30835824640.0000 - val_mean_absolute_error: 156093.5000\n",
      "Epoch 64/100\n",
      "1/1 [==============================] - 0s 205ms/step - loss: 46076133376.0000 - mean_absolute_error: 198566.2500 - val_loss: 30771613696.0000 - val_mean_absolute_error: 155943.8906\n",
      "Epoch 65/100\n",
      "1/1 [==============================] - 0s 244ms/step - loss: 45911707648.0000 - mean_absolute_error: 198191.0312 - val_loss: 30707570688.0000 - val_mean_absolute_error: 155794.4219\n",
      "Epoch 66/100\n",
      "1/1 [==============================] - 0s 225ms/step - loss: 45747757056.0000 - mean_absolute_error: 197816.1719 - val_loss: 30643691520.0000 - val_mean_absolute_error: 155645.1094\n",
      "Epoch 67/100\n",
      "1/1 [==============================] - 0s 187ms/step - loss: 45584277504.0000 - mean_absolute_error: 197441.6875 - val_loss: 30579982336.0000 - val_mean_absolute_error: 155495.9375\n",
      "Epoch 68/100\n",
      "1/1 [==============================] - 0s 237ms/step - loss: 45421273088.0000 - mean_absolute_error: 197067.5625 - val_loss: 30516436992.0000 - val_mean_absolute_error: 155346.8906\n",
      "Epoch 69/100\n",
      "1/1 [==============================] - 0s 196ms/step - loss: 45258747904.0000 - mean_absolute_error: 196693.8125 - val_loss: 30453059584.0000 - val_mean_absolute_error: 155198.0156\n",
      "Epoch 70/100\n",
      "1/1 [==============================] - 0s 233ms/step - loss: 45096689664.0000 - mean_absolute_error: 196320.4219 - val_loss: 30389846016.0000 - val_mean_absolute_error: 155049.2656\n",
      "Epoch 71/100\n",
      "1/1 [==============================] - 0s 234ms/step - loss: 44935106560.0000 - mean_absolute_error: 195947.3906 - val_loss: 30326798336.0000 - val_mean_absolute_error: 154900.6875\n",
      "Epoch 72/100\n",
      "1/1 [==============================] - 0s 233ms/step - loss: 44773998592.0000 - mean_absolute_error: 195574.7500 - val_loss: 30263914496.0000 - val_mean_absolute_error: 154752.2188\n",
      "Epoch 73/100\n",
      "1/1 [==============================] - 0s 209ms/step - loss: 44613353472.0000 - mean_absolute_error: 195202.4375 - val_loss: 30201198592.0000 - val_mean_absolute_error: 154603.9375\n",
      "Epoch 74/100\n",
      "1/1 [==============================] - 0s 189ms/step - loss: 44453183488.0000 - mean_absolute_error: 194830.5312 - val_loss: 30138642432.0000 - val_mean_absolute_error: 154455.7656\n",
      "Epoch 75/100\n",
      "1/1 [==============================] - 0s 237ms/step - loss: 44293476352.0000 - mean_absolute_error: 194458.9688 - val_loss: 30076256256.0000 - val_mean_absolute_error: 154307.7656\n",
      "Epoch 76/100\n",
      "1/1 [==============================] - 0s 216ms/step - loss: 44134240256.0000 - mean_absolute_error: 194087.7969 - val_loss: 30014035968.0000 - val_mean_absolute_error: 154159.9062\n",
      "Epoch 77/100\n",
      "1/1 [==============================] - 0s 208ms/step - loss: 43975475200.0000 - mean_absolute_error: 193717.0000 - val_loss: 29951973376.0000 - val_mean_absolute_error: 154012.1875\n",
      "Epoch 78/100\n",
      "1/1 [==============================] - 0s 227ms/step - loss: 43817172992.0000 - mean_absolute_error: 193346.5469 - val_loss: 29890078720.0000 - val_mean_absolute_error: 153864.6406\n",
      "Epoch 79/100\n",
      "1/1 [==============================] - 0s 226ms/step - loss: 43659337728.0000 - mean_absolute_error: 192976.4688 - val_loss: 29828343808.0000 - val_mean_absolute_error: 153717.2188\n",
      "Epoch 80/100\n",
      "1/1 [==============================] - 0s 238ms/step - loss: 43501969408.0000 - mean_absolute_error: 192606.7656 - val_loss: 29766774784.0000 - val_mean_absolute_error: 153569.9375\n",
      "Epoch 81/100\n",
      "1/1 [==============================] - 0s 240ms/step - loss: 43345068032.0000 - mean_absolute_error: 192237.4375 - val_loss: 29705367552.0000 - val_mean_absolute_error: 153422.8281\n",
      "Epoch 82/100\n",
      "1/1 [==============================] - 0s 184ms/step - loss: 43188625408.0000 - mean_absolute_error: 191868.4844 - val_loss: 29644124160.0000 - val_mean_absolute_error: 153275.8594\n",
      "Epoch 83/100\n",
      "1/1 [==============================] - 0s 206ms/step - loss: 43032645632.0000 - mean_absolute_error: 191499.8906 - val_loss: 29583046656.0000 - val_mean_absolute_error: 153129.0625\n",
      "Epoch 84/100\n",
      "1/1 [==============================] - 0s 221ms/step - loss: 42877128704.0000 - mean_absolute_error: 191131.6562 - val_loss: 29522124800.0000 - val_mean_absolute_error: 152982.3594\n",
      "Epoch 85/100\n",
      "1/1 [==============================] - 0s 226ms/step - loss: 42722074624.0000 - mean_absolute_error: 190763.8125 - val_loss: 29461366784.0000 - val_mean_absolute_error: 152835.8281\n",
      "Epoch 86/100\n",
      "1/1 [==============================] - 0s 199ms/step - loss: 42567483392.0000 - mean_absolute_error: 190396.3438 - val_loss: 29400770560.0000 - val_mean_absolute_error: 152689.4531\n",
      "Epoch 87/100\n",
      "1/1 [==============================] - 0s 193ms/step - loss: 42413346816.0000 - mean_absolute_error: 190029.2500 - val_loss: 29340338176.0000 - val_mean_absolute_error: 152543.2344\n",
      "Epoch 88/100\n",
      "1/1 [==============================] - 0s 226ms/step - loss: 42259673088.0000 - mean_absolute_error: 189662.5312 - val_loss: 29280063488.0000 - val_mean_absolute_error: 152397.1406\n",
      "Epoch 89/100\n",
      "1/1 [==============================] - 0s 237ms/step - loss: 42106454016.0000 - mean_absolute_error: 189296.1562 - val_loss: 29219954688.0000 - val_mean_absolute_error: 152251.2188\n",
      "Epoch 90/100\n",
      "1/1 [==============================] - 0s 201ms/step - loss: 41953697792.0000 - mean_absolute_error: 188930.1875 - val_loss: 29160001536.0000 - val_mean_absolute_error: 152105.4375\n",
      "Epoch 91/100\n",
      "1/1 [==============================] - 0s 193ms/step - loss: 41801392128.0000 - mean_absolute_error: 188564.5938 - val_loss: 29100210176.0000 - val_mean_absolute_error: 151959.8125\n",
      "Epoch 92/100\n",
      "1/1 [==============================] - 0s 250ms/step - loss: 41649549312.0000 - mean_absolute_error: 188199.3594 - val_loss: 29040582656.0000 - val_mean_absolute_error: 151814.3125\n",
      "Epoch 93/100\n",
      "1/1 [==============================] - 0s 209ms/step - loss: 41498157056.0000 - mean_absolute_error: 187834.5000 - val_loss: 28981112832.0000 - val_mean_absolute_error: 151669.0000\n",
      "Epoch 94/100\n",
      "1/1 [==============================] - 0s 232ms/step - loss: 41347211264.0000 - mean_absolute_error: 187470.0000 - val_loss: 28921798656.0000 - val_mean_absolute_error: 151523.8125\n",
      "Epoch 95/100\n",
      "1/1 [==============================] - 0s 227ms/step - loss: 41196728320.0000 - mean_absolute_error: 187105.9062 - val_loss: 28862650368.0000 - val_mean_absolute_error: 151378.7656\n",
      "Epoch 96/100\n",
      "1/1 [==============================] - 0s 201ms/step - loss: 41046691840.0000 - mean_absolute_error: 186742.1562 - val_loss: 28803657728.0000 - val_mean_absolute_error: 151233.8750\n",
      "Epoch 97/100\n",
      "1/1 [==============================] - 0s 231ms/step - loss: 40897110016.0000 - mean_absolute_error: 186378.8125 - val_loss: 28744818688.0000 - val_mean_absolute_error: 151089.1406\n",
      "Epoch 98/100\n",
      "1/1 [==============================] - 0s 235ms/step - loss: 40747978752.0000 - mean_absolute_error: 186015.8125 - val_loss: 28686145536.0000 - val_mean_absolute_error: 150944.5469\n",
      "Epoch 99/100\n",
      "1/1 [==============================] - 0s 225ms/step - loss: 40599289856.0000 - mean_absolute_error: 185653.2031 - val_loss: 28627623936.0000 - val_mean_absolute_error: 150800.1094\n",
      "Epoch 100/100\n",
      "1/1 [==============================] - 0s 217ms/step - loss: 40451055616.0000 - mean_absolute_error: 185290.9531 - val_loss: 28569266176.0000 - val_mean_absolute_error: 150655.8125\n",
      "1/1 [==============================] - 0s 1ms/step - loss: 28569266176.0000 - mean_absolute_error: 150655.8125\n"
     ]
    }
   ],
   "source": [
    "history = compile_and_fit(linear, single_step_window)\n",
    "\n",
    "val_performance['Linear'] = linear.evaluate(single_step_window.val)\n",
    "performance['Linear'] = linear.evaluate(single_step_window.test, verbose=0)"
   ]
  },
  {
   "cell_type": "markdown",
   "metadata": {},
   "source": [
    "## Dense Model"
   ]
  },
  {
   "cell_type": "code",
   "execution_count": 392,
   "metadata": {},
   "outputs": [
    {
     "name": "stdout",
     "output_type": "stream",
     "text": [
      "Epoch 1/100\n",
      "1/1 [==============================] - 0s 474ms/step - loss: 177093083136.0000 - mean_absolute_error: 396703.6875 - val_loss: 75147436032.0000 - val_mean_absolute_error: 258835.0000\n",
      "Epoch 2/100\n",
      "1/1 [==============================] - 0s 257ms/step - loss: 165461393408.0000 - mean_absolute_error: 383315.5625 - val_loss: 71134740480.0000 - val_mean_absolute_error: 251142.4375\n",
      "Epoch 3/100\n",
      "1/1 [==============================] - 0s 292ms/step - loss: 154370588672.0000 - mean_absolute_error: 370095.0625 - val_loss: 67365613568.0000 - val_mean_absolute_error: 243679.0781\n",
      "Epoch 4/100\n",
      "1/1 [==============================] - 0s 222ms/step - loss: 143985508352.0000 - mean_absolute_error: 357268.3750 - val_loss: 63860957184.0000 - val_mean_absolute_error: 236511.7812\n",
      "Epoch 5/100\n",
      "1/1 [==============================] - 0s 293ms/step - loss: 134360367104.0000 - mean_absolute_error: 344950.5312 - val_loss: 60482920448.0000 - val_mean_absolute_error: 229374.4688\n",
      "Epoch 6/100\n",
      "1/1 [==============================] - 0s 314ms/step - loss: 125114286080.0000 - mean_absolute_error: 332684.1875 - val_loss: 57228808192.0000 - val_mean_absolute_error: 222264.3438\n",
      "Epoch 7/100\n",
      "1/1 [==============================] - 0s 249ms/step - loss: 116239597568.0000 - mean_absolute_error: 320464.5938 - val_loss: 54224531456.0000 - val_mean_absolute_error: 215473.9375\n",
      "Epoch 8/100\n",
      "1/1 [==============================] - 0s 302ms/step - loss: 108077187072.0000 - mean_absolute_error: 308794.5000 - val_loss: 51349708800.0000 - val_mean_absolute_error: 208751.0312\n",
      "Epoch 9/100\n",
      "1/1 [==============================] - 0s 302ms/step - loss: 100297367552.0000 - mean_absolute_error: 297240.3750 - val_loss: 48596598784.0000 - val_mean_absolute_error: 202083.8281\n",
      "Epoch 10/100\n",
      "1/1 [==============================] - 0s 314ms/step - loss: 92878274560.0000 - mean_absolute_error: 285782.0000 - val_loss: 45994364928.0000 - val_mean_absolute_error: 195553.1562\n",
      "Epoch 11/100\n",
      "1/1 [==============================] - 0s 310ms/step - loss: 85897117696.0000 - mean_absolute_error: 274558.2812 - val_loss: 43506274304.0000 - val_mean_absolute_error: 189077.1719\n",
      "Epoch 12/100\n",
      "1/1 [==============================] - 0s 293ms/step - loss: 79253913600.0000 - mean_absolute_error: 263428.5312 - val_loss: 41120165888.0000 - val_mean_absolute_error: 182628.7500\n",
      "Epoch 13/100\n",
      "1/1 [==============================] - 0s 280ms/step - loss: 72915566592.0000 - mean_absolute_error: 252346.1875 - val_loss: 38833782784.0000 - val_mean_absolute_error: 176204.8594\n",
      "Epoch 14/100\n",
      "1/1 [==============================] - 0s 269ms/step - loss: 66875719680.0000 - mean_absolute_error: 241305.9688 - val_loss: 36660396032.0000 - val_mean_absolute_error: 169848.1719\n",
      "Epoch 15/100\n",
      "1/1 [==============================] - 0s 257ms/step - loss: 61168648192.0000 - mean_absolute_error: 230381.2656 - val_loss: 34617942016.0000 - val_mean_absolute_error: 164513.6094\n",
      "Epoch 16/100\n",
      "1/1 [==============================] - 0s 229ms/step - loss: 55839789056.0000 - mean_absolute_error: 219683.0625 - val_loss: 32801376256.0000 - val_mean_absolute_error: 160561.1875\n",
      "Epoch 17/100\n",
      "1/1 [==============================] - 0s 290ms/step - loss: 51131928576.0000 - mean_absolute_error: 209770.7656 - val_loss: 31219478528.0000 - val_mean_absolute_error: 156982.4375\n",
      "Epoch 18/100\n",
      "1/1 [==============================] - 0s 185ms/step - loss: 47059607552.0000 - mean_absolute_error: 200795.6094 - val_loss: 29699239936.0000 - val_mean_absolute_error: 153408.1250\n",
      "Epoch 19/100\n",
      "1/1 [==============================] - 0s 251ms/step - loss: 43173019648.0000 - mean_absolute_error: 191831.6250 - val_loss: 28261361664.0000 - val_mean_absolute_error: 149890.5469\n",
      "Epoch 20/100\n",
      "1/1 [==============================] - 0s 246ms/step - loss: 39524372480.0000 - mean_absolute_error: 183009.8750 - val_loss: 26883358720.0000 - val_mean_absolute_error: 146378.4062\n",
      "Epoch 21/100\n",
      "1/1 [==============================] - 0s 273ms/step - loss: 36055834624.0000 - mean_absolute_error: 174201.7812 - val_loss: 25567932416.0000 - val_mean_absolute_error: 142879.7812\n",
      "Epoch 22/100\n",
      "1/1 [==============================] - 0s 281ms/step - loss: 32773984256.0000 - mean_absolute_error: 165427.6250 - val_loss: 24317181952.0000 - val_mean_absolute_error: 139402.5781\n",
      "Epoch 23/100\n",
      "1/1 [==============================] - 0s 235ms/step - loss: 29683605504.0000 - mean_absolute_error: 156707.1562 - val_loss: 23146530816.0000 - val_mean_absolute_error: 135995.8281\n",
      "Epoch 24/100\n",
      "1/1 [==============================] - 0s 272ms/step - loss: 26821566464.0000 - mean_absolute_error: 148163.3750 - val_loss: 22044352512.0000 - val_mean_absolute_error: 132633.7188\n",
      "Epoch 25/100\n",
      "1/1 [==============================] - 0s 296ms/step - loss: 24157837312.0000 - mean_absolute_error: 139731.5625 - val_loss: 21001627648.0000 - val_mean_absolute_error: 129293.5312\n",
      "Epoch 26/100\n",
      "1/1 [==============================] - 0s 266ms/step - loss: 21669656576.0000 - mean_absolute_error: 131354.6875 - val_loss: 20018700288.0000 - val_mean_absolute_error: 125979.9844\n",
      "Epoch 27/100\n",
      "1/1 [==============================] - 0s 289ms/step - loss: 19357124608.0000 - mean_absolute_error: 123044.6719 - val_loss: 19095724032.0000 - val_mean_absolute_error: 122698.2109\n",
      "Epoch 28/100\n",
      "1/1 [==============================] - 0s 267ms/step - loss: 17219708928.0000 - mean_absolute_error: 114814.3281 - val_loss: 18232659968.0000 - val_mean_absolute_error: 119453.6641\n",
      "Epoch 29/100\n",
      "1/1 [==============================] - 0s 284ms/step - loss: 15256159232.0000 - mean_absolute_error: 106677.3281 - val_loss: 17429229568.0000 - val_mean_absolute_error: 116252.1641\n",
      "Epoch 30/100\n",
      "1/1 [==============================] - 0s 281ms/step - loss: 13464492032.0000 - mean_absolute_error: 98648.3281 - val_loss: 16684920832.0000 - val_mean_absolute_error: 113099.9453\n",
      "Epoch 31/100\n",
      "1/1 [==============================] - 0s 263ms/step - loss: 11841918976.0000 - mean_absolute_error: 90742.8750 - val_loss: 15998968832.0000 - val_mean_absolute_error: 110003.5312\n",
      "Epoch 32/100\n",
      "1/1 [==============================] - 0s 272ms/step - loss: 10384791552.0000 - mean_absolute_error: 82977.3750 - val_loss: 15370319872.0000 - val_mean_absolute_error: 106969.7812\n",
      "Epoch 33/100\n",
      "1/1 [==============================] - 0s 263ms/step - loss: 9088577536.0000 - mean_absolute_error: 75900.2188 - val_loss: 14797652992.0000 - val_mean_absolute_error: 104005.9297\n",
      "Epoch 34/100\n",
      "1/1 [==============================] - 0s 294ms/step - loss: 7947818496.0000 - mean_absolute_error: 70520.0312 - val_loss: 14279343104.0000 - val_mean_absolute_error: 101119.3359\n",
      "Epoch 35/100\n",
      "1/1 [==============================] - 0s 287ms/step - loss: 6956134400.0000 - mean_absolute_error: 65595.7344 - val_loss: 13813483520.0000 - val_mean_absolute_error: 98317.5938\n",
      "Epoch 36/100\n",
      "1/1 [==============================] - 0s 263ms/step - loss: 6106219520.0000 - mean_absolute_error: 60816.2109 - val_loss: 13403556864.0000 - val_mean_absolute_error: 95647.0859\n",
      "Epoch 37/100\n",
      "1/1 [==============================] - 0s 298ms/step - loss: 5399370240.0000 - mean_absolute_error: 56260.5234 - val_loss: 13051139072.0000 - val_mean_absolute_error: 93155.5859\n",
      "Epoch 38/100\n",
      "1/1 [==============================] - 0s 282ms/step - loss: 4830787584.0000 - mean_absolute_error: 52010.2422 - val_loss: 12740239360.0000 - val_mean_absolute_error: 90764.9531\n",
      "Epoch 39/100\n",
      "1/1 [==============================] - 0s 295ms/step - loss: 4367689728.0000 - mean_absolute_error: 49701.3008 - val_loss: 12468219904.0000 - val_mean_absolute_error: 88481.7188\n",
      "Epoch 40/100\n",
      "1/1 [==============================] - 0s 184ms/step - loss: 4000809984.0000 - mean_absolute_error: 49226.9609 - val_loss: 12232311808.0000 - val_mean_absolute_error: 86312.2656\n",
      "Epoch 41/100\n",
      "1/1 [==============================] - 0s 198ms/step - loss: 3720468224.0000 - mean_absolute_error: 48776.2500 - val_loss: 12029606912.0000 - val_mean_absolute_error: 84262.5000\n",
      "Epoch 42/100\n",
      "1/1 [==============================] - 0s 201ms/step - loss: 3516702464.0000 - mean_absolute_error: 48350.3906 - val_loss: 11857137664.0000 - val_mean_absolute_error: 82337.8438\n",
      "Epoch 43/100\n",
      "1/1 [==============================] - 0s 253ms/step - loss: 3379427584.0000 - mean_absolute_error: 47950.5469 - val_loss: 11711890432.0000 - val_mean_absolute_error: 80543.0781\n",
      "Epoch 44/100\n",
      "1/1 [==============================] - 0s 243ms/step - loss: 3298587392.0000 - mean_absolute_error: 47577.6836 - val_loss: 11591067648.0000 - val_mean_absolute_error: 78884.9062\n",
      "Epoch 45/100\n",
      "1/1 [==============================] - 0s 271ms/step - loss: 3264355328.0000 - mean_absolute_error: 47233.1797 - val_loss: 11491196928.0000 - val_mean_absolute_error: 77452.3906\n",
      "Epoch 46/100\n",
      "1/1 [==============================] - 0s 328ms/step - loss: 3267193600.0000 - mean_absolute_error: 46916.0781 - val_loss: 11410025472.0000 - val_mean_absolute_error: 76708.5391\n",
      "Epoch 47/100\n",
      "1/1 [==============================] - 0s 228ms/step - loss: 3298236928.0000 - mean_absolute_error: 46628.4688 - val_loss: 11344731136.0000 - val_mean_absolute_error: 76040.2344\n",
      "Epoch 48/100\n",
      "1/1 [==============================] - 0s 273ms/step - loss: 3349227008.0000 - mean_absolute_error: 46370.0898 - val_loss: 11292868608.0000 - val_mean_absolute_error: 75679.8828\n",
      "Epoch 49/100\n",
      "1/1 [==============================] - 0s 302ms/step - loss: 3412737792.0000 - mean_absolute_error: 46249.1602 - val_loss: 11252224000.0000 - val_mean_absolute_error: 75444.1250\n",
      "Epoch 50/100\n",
      "1/1 [==============================] - 0s 256ms/step - loss: 3482260480.0000 - mean_absolute_error: 46263.2812 - val_loss: 11220839424.0000 - val_mean_absolute_error: 75242.0938\n",
      "Epoch 51/100\n",
      "1/1 [==============================] - 0s 284ms/step - loss: 3552275968.0000 - mean_absolute_error: 46275.3906 - val_loss: 11197018112.0000 - val_mean_absolute_error: 75073.0156\n",
      "Epoch 52/100\n",
      "1/1 [==============================] - 0s 264ms/step - loss: 3618276608.0000 - mean_absolute_error: 46285.5234 - val_loss: 11179333632.0000 - val_mean_absolute_error: 74935.8516\n",
      "Epoch 53/100\n",
      "1/1 [==============================] - 0s 281ms/step - loss: 3676767488.0000 - mean_absolute_error: 46293.7422 - val_loss: 11166614528.0000 - val_mean_absolute_error: 74829.3750\n",
      "Epoch 54/100\n",
      "1/1 [==============================] - 0s 249ms/step - loss: 3725241088.0000 - mean_absolute_error: 46393.0156 - val_loss: 11157936128.0000 - val_mean_absolute_error: 74752.0938\n",
      "Epoch 55/100\n",
      "1/1 [==============================] - 0s 279ms/step - loss: 3762092288.0000 - mean_absolute_error: 46494.4648 - val_loss: 11152600064.0000 - val_mean_absolute_error: 74702.3672\n",
      "Epoch 56/100\n",
      "1/1 [==============================] - 0s 211ms/step - loss: 3786547712.0000 - mean_absolute_error: 46559.7344 - val_loss: 11150094336.0000 - val_mean_absolute_error: 74678.3906\n",
      "Epoch 57/100\n",
      "1/1 [==============================] - 0s 223ms/step - loss: 3798552064.0000 - mean_absolute_error: 46591.2266 - val_loss: 11150076928.0000 - val_mean_absolute_error: 74678.2109\n",
      "Epoch 58/100\n",
      "1/1 [==============================] - 0s 230ms/step - loss: 3798640640.0000 - mean_absolute_error: 46591.4453 - val_loss: 11152330752.0000 - val_mean_absolute_error: 74699.8047\n",
      "Epoch 59/100\n",
      "1/1 [==============================] - 0s 276ms/step - loss: 3787825152.0000 - mean_absolute_error: 46563.0977 - val_loss: 11156737024.0000 - val_mean_absolute_error: 74741.0547\n",
      "1/1 [==============================] - 0s 2ms/step - loss: 11156736000.0000 - mean_absolute_error: 74741.0625\n"
     ]
    }
   ],
   "source": [
    "dense = tf.keras.Sequential([\n",
    "    tf.keras.layers.Dense(units=64, activation='relu'),\n",
    "    tf.keras.layers.Dense(units=64, activation='relu'),\n",
    "    tf.keras.layers.Dense(units=1)\n",
    "])\n",
    "\n",
    "history = compile_and_fit(dense, single_step_window)\n",
    "\n",
    "val_performance['Dense'] = dense.evaluate(single_step_window.val)\n",
    "performance['Dense'] = dense.evaluate(single_step_window.test, verbose=0)"
   ]
  },
  {
   "cell_type": "code",
   "execution_count": 393,
   "metadata": {},
   "outputs": [
    {
     "data": {
      "text/plain": [
       "Total window size: 4\n",
       "Input indices: [0 1 2]\n",
       "Label indices: [3]\n",
       "Label column name(s): ['Actuals Rev']"
      ]
     },
     "execution_count": 393,
     "metadata": {},
     "output_type": "execute_result"
    }
   ],
   "source": [
    "CONV_WIDTH = 3\n",
    "conv_window = WindowGenerator(\n",
    "    input_width=CONV_WIDTH,\n",
    "    label_width=1,\n",
    "    shift=1,\n",
    "    label_columns=['Actuals Rev'])\n",
    "\n",
    "conv_window"
   ]
  },
  {
   "cell_type": "code",
   "execution_count": 394,
   "metadata": {},
   "outputs": [
    {
     "data": {
      "text/plain": [
       "Text(0.5, 1.0, 'Given 3h as input, predict 1h into the future.')"
      ]
     },
     "execution_count": 394,
     "metadata": {},
     "output_type": "execute_result"
    },
    {
     "data": {
      "image/png": "[encoded data removed]",
      "text/plain": [
       "<Figure size 864x576 with 3 Axes>"
      ]
     },
     "metadata": {
      "needs_background": "light"
     },
     "output_type": "display_data"
    }
   ],
   "source": [
    "conv_window.plot()\n",
    "plt.title(\"Given 3h as input, predict 1h into the future.\")"
   ]
  },
  {
   "cell_type": "code",
   "execution_count": 395,
   "metadata": {},
   "outputs": [],
   "source": [
    "multi_step_dense = tf.keras.Sequential([\n",
    "    # Shape: (time, features) => (time*features)\n",
    "    tf.keras.layers.Flatten(),\n",
    "    tf.keras.layers.Dense(units=32, activation='relu'),\n",
    "    tf.keras.layers.Dense(units=32, activation='relu'),\n",
    "    tf.keras.layers.Dense(units=1),\n",
    "    # Add back the time dimension.\n",
    "    # Shape: (outputs) => (1, outputs)\n",
    "    tf.keras.layers.Reshape([1, -1]),\n",
    "])"
   ]
  },
  {
   "cell_type": "code",
   "execution_count": 396,
   "metadata": {},
   "outputs": [
    {
     "name": "stdout",
     "output_type": "stream",
     "text": [
      "Input shape: (14, 3, 1)\n",
      "Output shape: (14, 1, 1)\n"
     ]
    }
   ],
   "source": [
    "print('Input shape:', conv_window.example[0].shape)\n",
    "print('Output shape:', multi_step_dense(conv_window.example[0]).shape)"
   ]
  },
  {
   "cell_type": "code",
   "execution_count": 397,
   "metadata": {},
   "outputs": [
    {
     "name": "stdout",
     "output_type": "stream",
     "text": [
      "Epoch 1/100\n",
      "1/1 [==============================] - 0s 456ms/step - loss: 23661084672.0000 - mean_absolute_error: 143178.9844 - val_loss: 30366576640.0000 - val_mean_absolute_error: 138825.1719\n",
      "Epoch 2/100\n",
      "1/1 [==============================] - 0s 261ms/step - loss: 18629683200.0000 - mean_absolute_error: 125067.8203 - val_loss: 28229310464.0000 - val_mean_absolute_error: 134139.9531\n",
      "Epoch 3/100\n",
      "1/1 [==============================] - 0s 292ms/step - loss: 14246393856.0000 - mean_absolute_error: 106708.0781 - val_loss: 26335950848.0000 - val_mean_absolute_error: 131029.1094\n",
      "Epoch 4/100\n",
      "1/1 [==============================] - 0s 275ms/step - loss: 10619578368.0000 - mean_absolute_error: 88825.8594 - val_loss: 24697223168.0000 - val_mean_absolute_error: 127879.7891\n",
      "Epoch 5/100\n",
      "1/1 [==============================] - 0s 287ms/step - loss: 7759201792.0000 - mean_absolute_error: 75541.2500 - val_loss: 23304517632.0000 - val_mean_absolute_error: 124807.7891\n",
      "Epoch 6/100\n",
      "1/1 [==============================] - 0s 265ms/step - loss: 5653263360.0000 - mean_absolute_error: 62785.4023 - val_loss: 22154743808.0000 - val_mean_absolute_error: 123054.9297\n",
      "Epoch 7/100\n",
      "1/1 [==============================] - 0s 269ms/step - loss: 4259148032.0000 - mean_absolute_error: 52320.9609 - val_loss: 21241649152.0000 - val_mean_absolute_error: 122742.2031\n",
      "Epoch 8/100\n",
      "1/1 [==============================] - 0s 217ms/step - loss: 3522755072.0000 - mean_absolute_error: 48580.5430 - val_loss: 20557654016.0000 - val_mean_absolute_error: 122490.2422\n",
      "Epoch 9/100\n",
      "1/1 [==============================] - 0s 277ms/step - loss: 3346941184.0000 - mean_absolute_error: 48062.5312 - val_loss: 20060975104.0000 - val_mean_absolute_error: 122269.7344\n",
      "Epoch 10/100\n",
      "1/1 [==============================] - 0s 284ms/step - loss: 3578185216.0000 - mean_absolute_error: 49930.5820 - val_loss: 19721340928.0000 - val_mean_absolute_error: 122041.1484\n",
      "Epoch 11/100\n",
      "1/1 [==============================] - 0s 251ms/step - loss: 4041102592.0000 - mean_absolute_error: 53853.6875 - val_loss: 19505022976.0000 - val_mean_absolute_error: 121831.4609\n",
      "Epoch 12/100\n",
      "1/1 [==============================] - 0s 282ms/step - loss: 4576525312.0000 - mean_absolute_error: 57174.2266 - val_loss: 19362762752.0000 - val_mean_absolute_error: 121597.3516\n",
      "Epoch 13/100\n",
      "1/1 [==============================] - 0s 214ms/step - loss: 5042752512.0000 - mean_absolute_error: 59487.5391 - val_loss: 19264866304.0000 - val_mean_absolute_error: 121347.1406\n",
      "Epoch 14/100\n",
      "1/1 [==============================] - 0s 295ms/step - loss: 5346536448.0000 - mean_absolute_error: 61396.4922 - val_loss: 19193434112.0000 - val_mean_absolute_error: 121090.3906\n",
      "Epoch 15/100\n",
      "1/1 [==============================] - 0s 260ms/step - loss: 5449660928.0000 - mean_absolute_error: 62070.3164 - val_loss: 19141267456.0000 - val_mean_absolute_error: 120835.4297\n",
      "Epoch 16/100\n",
      "1/1 [==============================] - 0s 297ms/step - loss: 5359902720.0000 - mean_absolute_error: 61518.7461 - val_loss: 19108450304.0000 - val_mean_absolute_error: 120586.9844\n",
      "Epoch 17/100\n",
      "1/1 [==============================] - 0s 285ms/step - loss: 5114641408.0000 - mean_absolute_error: 59926.8242 - val_loss: 19099920384.0000 - val_mean_absolute_error: 120349.1797\n",
      "Epoch 18/100\n",
      "1/1 [==============================] - 0s 231ms/step - loss: 4767794176.0000 - mean_absolute_error: 58158.0547 - val_loss: 19119978496.0000 - val_mean_absolute_error: 120101.9531\n",
      "Epoch 19/100\n",
      "1/1 [==============================] - 0s 295ms/step - loss: 4377092096.0000 - mean_absolute_error: 56118.4648 - val_loss: 19171883008.0000 - val_mean_absolute_error: 119855.2344\n",
      "1/1 [==============================] - 0s 2ms/step - loss: 19171880960.0000 - mean_absolute_error: 119855.2344\n"
     ]
    }
   ],
   "source": [
    "history = compile_and_fit(multi_step_dense, conv_window)\n",
    "\n",
    "#IPython.display.clear_output()\n",
    "val_performance['Multi step dense'] = multi_step_dense.evaluate(conv_window.val)\n",
    "performance['Multi step dense'] = multi_step_dense.evaluate(conv_window.test, verbose=0)"
   ]
  },
  {
   "cell_type": "code",
   "execution_count": 398,
   "metadata": {},
   "outputs": [
    {
     "data": {
      "image/png": "[encoded data removed]",
      "text/plain": [
       "<Figure size 864x576 with 3 Axes>"
      ]
     },
     "metadata": {
      "needs_background": "light"
     },
     "output_type": "display_data"
    }
   ],
   "source": [
    "conv_window.plot(multi_step_dense)"
   ]
  },
  {
   "cell_type": "markdown",
   "metadata": {},
   "source": [
    "## Convoluational NN"
   ]
  },
  {
   "cell_type": "code",
   "execution_count": 387,
   "metadata": {},
   "outputs": [],
   "source": [
    "conv_model = tf.keras.Sequential([\n",
    "    tf.keras.layers.Conv1D(filters=512,\n",
    "                           kernel_size=(CONV_WIDTH,),\n",
    "                           activation='relu'),\n",
    "    tf.keras.layers.Dense(units=512, activation='relu'),\n",
    "    tf.keras.layers.Dense(units=1),\n",
    "])"
   ]
  },
  {
   "cell_type": "code",
   "execution_count": 388,
   "metadata": {},
   "outputs": [
    {
     "name": "stdout",
     "output_type": "stream",
     "text": [
      "Conv model on `conv_window`\n",
      "Input shape: (14, 3, 1)\n",
      "Output shape: (14, 1, 1)\n"
     ]
    }
   ],
   "source": [
    "print(\"Conv model on `conv_window`\")\n",
    "print('Input shape:', conv_window.example[0].shape)\n",
    "print('Output shape:', conv_model(conv_window.example[0]).shape)"
   ]
  },
  {
   "cell_type": "code",
   "execution_count": 389,
   "metadata": {},
   "outputs": [
    {
     "name": "stdout",
     "output_type": "stream",
     "text": [
      "Epoch 1/100\n",
      "1/1 [==============================] - 1s 522ms/step - loss: 107356856320.0000 - mean_absolute_error: 315188.3438 - val_loss: 46960607232.0000 - val_mean_absolute_error: 190767.7969\n",
      "Epoch 2/100\n",
      "1/1 [==============================] - 0s 218ms/step - loss: 60914589696.0000 - mean_absolute_error: 237104.0312 - val_loss: 33423849472.0000 - val_mean_absolute_error: 152237.0781\n",
      "Epoch 3/100\n",
      "1/1 [==============================] - 0s 291ms/step - loss: 30371063808.0000 - mean_absolute_error: 166049.3281 - val_loss: 24330561536.0000 - val_mean_absolute_error: 132261.5312\n",
      "Epoch 4/100\n",
      "1/1 [==============================] - 0s 213ms/step - loss: 12121873408.0000 - mean_absolute_error: 100695.5625 - val_loss: 18790172672.0000 - val_mean_absolute_error: 120696.3594\n",
      "Epoch 5/100\n",
      "1/1 [==============================] - 0s 266ms/step - loss: 3609556736.0000 - mean_absolute_error: 45700.7930 - val_loss: 16346598400.0000 - val_mean_absolute_error: 110358.2891\n",
      "Epoch 6/100\n",
      "1/1 [==============================] - 0s 289ms/step - loss: 2990333184.0000 - mean_absolute_error: 45809.4297 - val_loss: 16183518208.0000 - val_mean_absolute_error: 102145.7500\n",
      "Epoch 7/100\n",
      "1/1 [==============================] - 0s 274ms/step - loss: 7562718720.0000 - mean_absolute_error: 74494.3281 - val_loss: 16871768064.0000 - val_mean_absolute_error: 101005.0000\n",
      "Epoch 8/100\n",
      "1/1 [==============================] - 0s 187ms/step - loss: 12737475584.0000 - mean_absolute_error: 98446.9922 - val_loss: 17281239040.0000 - val_mean_absolute_error: 100701.2500\n",
      "1/1 [==============================] - 0s 2ms/step - loss: 17281239040.0000 - mean_absolute_error: 100701.2500\n"
     ]
    }
   ],
   "source": [
    "history = compile_and_fit(conv_model, conv_window)\n",
    "\n",
    "#IPython.display.clear_output()\n",
    "val_performance['Conv'] = conv_model.evaluate(conv_window.val)\n",
    "performance['Conv'] = conv_model.evaluate(conv_window.test, verbose=0)"
   ]
  },
  {
   "cell_type": "code",
   "execution_count": 363,
   "metadata": {},
   "outputs": [
    {
     "data": {
      "text/plain": [
       "Total window size: 27\n",
       "Input indices: [ 0  1  2  3  4  5  6  7  8  9 10 11 12 13 14 15 16 17 18 19 20 21 22 23\n",
       " 24 25]\n",
       "Label indices: [ 3  4  5  6  7  8  9 10 11 12 13 14 15 16 17 18 19 20 21 22 23 24 25 26]\n",
       "Label column name(s): ['Actuals Rev']"
      ]
     },
     "execution_count": 363,
     "metadata": {},
     "output_type": "execute_result"
    }
   ],
   "source": [
    "LABEL_WIDTH = 24\n",
    "INPUT_WIDTH = LABEL_WIDTH + (CONV_WIDTH - 1)\n",
    "wide_conv_window = WindowGenerator(\n",
    "    input_width=INPUT_WIDTH,\n",
    "    label_width=LABEL_WIDTH,\n",
    "    shift=1,\n",
    "    label_columns=['Actuals Rev'])\n",
    "\n",
    "wide_conv_window"
   ]
  },
  {
   "cell_type": "code",
   "execution_count": 323,
   "metadata": {},
   "outputs": [],
   "source": [
    "#wide_conv_window.plot(conv_model)"
   ]
  },
  {
   "cell_type": "markdown",
   "metadata": {},
   "source": [
    "## Recurrent NN"
   ]
  },
  {
   "cell_type": "code",
   "execution_count": 326,
   "metadata": {},
   "outputs": [],
   "source": [
    "lstm_model = tf.keras.models.Sequential([\n",
    "    # Shape [batch, time, features] => [batch, time, lstm_units]\n",
    "    tf.keras.layers.LSTM(32, return_sequences=True),\n",
    "    # Shape => [batch, time, features]\n",
    "    tf.keras.layers.Dense(units=1)\n",
    "])"
   ]
  },
  {
   "cell_type": "code",
   "execution_count": 327,
   "metadata": {},
   "outputs": [
    {
     "name": "stdout",
     "output_type": "stream",
     "text": [
      "Epoch 1/20\n"
     ]
    },
    {
     "ename": "UnboundLocalError",
     "evalue": "local variable 'logs' referenced before assignment",
     "output_type": "error",
     "traceback": [
      "\u001b[0;31m---------------------------------------------------------------------------\u001b[0m",
      "\u001b[0;31mUnboundLocalError\u001b[0m                         Traceback (most recent call last)",
      "\u001b[0;32m<ipython-input-327-a489d6b0d64f>\u001b[0m in \u001b[0;36m<module>\u001b[0;34m\u001b[0m\n\u001b[0;32m----> 1\u001b[0;31m \u001b[0mhistory\u001b[0m \u001b[0;34m=\u001b[0m \u001b[0mcompile_and_fit\u001b[0m\u001b[0;34m(\u001b[0m\u001b[0mlstm_model\u001b[0m\u001b[0;34m,\u001b[0m \u001b[0mwide_window\u001b[0m\u001b[0;34m)\u001b[0m\u001b[0;34m\u001b[0m\u001b[0;34m\u001b[0m\u001b[0m\n\u001b[0m\u001b[1;32m      2\u001b[0m \u001b[0;34m\u001b[0m\u001b[0m\n\u001b[1;32m      3\u001b[0m \u001b[0;31m#IPython.display.clear_output()\u001b[0m\u001b[0;34m\u001b[0m\u001b[0;34m\u001b[0m\u001b[0;34m\u001b[0m\u001b[0m\n\u001b[1;32m      4\u001b[0m \u001b[0mval_performance\u001b[0m\u001b[0;34m[\u001b[0m\u001b[0;34m'LSTM'\u001b[0m\u001b[0;34m]\u001b[0m \u001b[0;34m=\u001b[0m \u001b[0mlstm_model\u001b[0m\u001b[0;34m.\u001b[0m\u001b[0mevaluate\u001b[0m\u001b[0;34m(\u001b[0m\u001b[0mwide_window\u001b[0m\u001b[0;34m.\u001b[0m\u001b[0mval\u001b[0m\u001b[0;34m)\u001b[0m\u001b[0;34m\u001b[0m\u001b[0;34m\u001b[0m\u001b[0m\n\u001b[1;32m      5\u001b[0m \u001b[0mperformance\u001b[0m\u001b[0;34m[\u001b[0m\u001b[0;34m'LSTM'\u001b[0m\u001b[0;34m]\u001b[0m \u001b[0;34m=\u001b[0m \u001b[0mlstm_model\u001b[0m\u001b[0;34m.\u001b[0m\u001b[0mevaluate\u001b[0m\u001b[0;34m(\u001b[0m\u001b[0mwide_window\u001b[0m\u001b[0;34m.\u001b[0m\u001b[0mtest\u001b[0m\u001b[0;34m,\u001b[0m \u001b[0mverbose\u001b[0m\u001b[0;34m=\u001b[0m\u001b[0;36m0\u001b[0m\u001b[0;34m)\u001b[0m\u001b[0;34m\u001b[0m\u001b[0;34m\u001b[0m\u001b[0m\n",
      "\u001b[0;32m<ipython-input-310-716049f06cb3>\u001b[0m in \u001b[0;36mcompile_and_fit\u001b[0;34m(model, window, patience)\u001b[0m\n\u001b[1;32m     12\u001b[0m   history = model.fit(window.train, epochs=MAX_EPOCHS,\n\u001b[1;32m     13\u001b[0m                       \u001b[0mvalidation_data\u001b[0m\u001b[0;34m=\u001b[0m\u001b[0mwindow\u001b[0m\u001b[0;34m.\u001b[0m\u001b[0mval\u001b[0m\u001b[0;34m,\u001b[0m\u001b[0;34m\u001b[0m\u001b[0;34m\u001b[0m\u001b[0m\n\u001b[0;32m---> 14\u001b[0;31m                       callbacks=[early_stopping])\n\u001b[0m\u001b[1;32m     15\u001b[0m   \u001b[0;32mreturn\u001b[0m \u001b[0mhistory\u001b[0m\u001b[0;34m\u001b[0m\u001b[0;34m\u001b[0m\u001b[0m\n",
      "\u001b[0;32m/opt/conda/lib/python3.7/site-packages/tensorflow/python/keras/engine/training.py\u001b[0m in \u001b[0;36m_method_wrapper\u001b[0;34m(self, *args, **kwargs)\u001b[0m\n\u001b[1;32m    106\u001b[0m   \u001b[0;32mdef\u001b[0m \u001b[0m_method_wrapper\u001b[0m\u001b[0;34m(\u001b[0m\u001b[0mself\u001b[0m\u001b[0;34m,\u001b[0m \u001b[0;34m*\u001b[0m\u001b[0margs\u001b[0m\u001b[0;34m,\u001b[0m \u001b[0;34m**\u001b[0m\u001b[0mkwargs\u001b[0m\u001b[0;34m)\u001b[0m\u001b[0;34m:\u001b[0m\u001b[0;34m\u001b[0m\u001b[0;34m\u001b[0m\u001b[0m\n\u001b[1;32m    107\u001b[0m     \u001b[0;32mif\u001b[0m \u001b[0;32mnot\u001b[0m \u001b[0mself\u001b[0m\u001b[0;34m.\u001b[0m\u001b[0m_in_multi_worker_mode\u001b[0m\u001b[0;34m(\u001b[0m\u001b[0;34m)\u001b[0m\u001b[0;34m:\u001b[0m  \u001b[0;31m# pylint: disable=protected-access\u001b[0m\u001b[0;34m\u001b[0m\u001b[0;34m\u001b[0m\u001b[0m\n\u001b[0;32m--> 108\u001b[0;31m       \u001b[0;32mreturn\u001b[0m \u001b[0mmethod\u001b[0m\u001b[0;34m(\u001b[0m\u001b[0mself\u001b[0m\u001b[0;34m,\u001b[0m \u001b[0;34m*\u001b[0m\u001b[0margs\u001b[0m\u001b[0;34m,\u001b[0m \u001b[0;34m**\u001b[0m\u001b[0mkwargs\u001b[0m\u001b[0;34m)\u001b[0m\u001b[0;34m\u001b[0m\u001b[0;34m\u001b[0m\u001b[0m\n\u001b[0m\u001b[1;32m    109\u001b[0m \u001b[0;34m\u001b[0m\u001b[0m\n\u001b[1;32m    110\u001b[0m     \u001b[0;31m# Running inside `run_distribute_coordinator` already.\u001b[0m\u001b[0;34m\u001b[0m\u001b[0;34m\u001b[0m\u001b[0;34m\u001b[0m\u001b[0m\n",
      "\u001b[0;32m/opt/conda/lib/python3.7/site-packages/tensorflow/python/keras/engine/training.py\u001b[0m in \u001b[0;36mfit\u001b[0;34m(self, x, y, batch_size, epochs, verbose, callbacks, validation_split, validation_data, shuffle, class_weight, sample_weight, initial_epoch, steps_per_epoch, validation_steps, validation_batch_size, validation_freq, max_queue_size, workers, use_multiprocessing)\u001b[0m\n\u001b[1;32m   1102\u001b[0m               \u001b[0mend_step\u001b[0m \u001b[0;34m=\u001b[0m \u001b[0mstep\u001b[0m \u001b[0;34m+\u001b[0m \u001b[0mdata_handler\u001b[0m\u001b[0;34m.\u001b[0m\u001b[0mstep_increment\u001b[0m\u001b[0;34m\u001b[0m\u001b[0;34m\u001b[0m\u001b[0m\n\u001b[1;32m   1103\u001b[0m               \u001b[0mcallbacks\u001b[0m\u001b[0;34m.\u001b[0m\u001b[0mon_train_batch_end\u001b[0m\u001b[0;34m(\u001b[0m\u001b[0mend_step\u001b[0m\u001b[0;34m,\u001b[0m \u001b[0mlogs\u001b[0m\u001b[0;34m)\u001b[0m\u001b[0;34m\u001b[0m\u001b[0;34m\u001b[0m\u001b[0m\n\u001b[0;32m-> 1104\u001b[0;31m         \u001b[0mepoch_logs\u001b[0m \u001b[0;34m=\u001b[0m \u001b[0mcopy\u001b[0m\u001b[0;34m.\u001b[0m\u001b[0mcopy\u001b[0m\u001b[0;34m(\u001b[0m\u001b[0mlogs\u001b[0m\u001b[0;34m)\u001b[0m\u001b[0;34m\u001b[0m\u001b[0;34m\u001b[0m\u001b[0m\n\u001b[0m\u001b[1;32m   1105\u001b[0m \u001b[0;34m\u001b[0m\u001b[0m\n\u001b[1;32m   1106\u001b[0m         \u001b[0;31m# Run validation.\u001b[0m\u001b[0;34m\u001b[0m\u001b[0;34m\u001b[0m\u001b[0;34m\u001b[0m\u001b[0m\n",
      "\u001b[0;31mUnboundLocalError\u001b[0m: local variable 'logs' referenced before assignment"
     ]
    }
   ],
   "source": [
    "history = compile_and_fit(lstm_model, wide_window)\n",
    "\n",
    "#IPython.display.clear_output()\n",
    "val_performance['LSTM'] = lstm_model.evaluate(wide_window.val)\n",
    "performance['LSTM'] = lstm_model.evaluate(wide_window.test, verbose=0)"
   ]
  },
  {
   "cell_type": "code",
   "execution_count": null,
   "metadata": {},
   "outputs": [],
   "source": [
    "wide_window"
   ]
  },
  {
   "cell_type": "markdown",
   "metadata": {},
   "source": [
    "## Performance"
   ]
  },
  {
   "cell_type": "code",
   "execution_count": 399,
   "metadata": {},
   "outputs": [
    {
     "data": {
      "image/png": "[encoded data removed]",
      "text/plain": [
       "<Figure size 432x288 with 1 Axes>"
      ]
     },
     "metadata": {
      "needs_background": "light"
     },
     "output_type": "display_data"
    }
   ],
   "source": [
    "x = np.arange(len(performance))\n",
    "width = 0.3\n",
    "metric_name = 'mean_absolute_error'\n",
    "metric_index = conv_model.metrics_names.index('mean_absolute_error')\n",
    "val_mae = [v[metric_index] for v in val_performance.values()]\n",
    "test_mae = [v[metric_index] for v in performance.values()]\n",
    "\n",
    "plt.ylabel('mean_absolute_error [Actuals Rev, normalized]')\n",
    "plt.bar(x - 0.17, val_mae, width, label='Validation')\n",
    "plt.bar(x + 0.17, test_mae, width, label='Test')\n",
    "plt.xticks(ticks=x, labels=performance.keys(),\n",
    "           rotation=45)\n",
    "_ = plt.legend()"
   ]
  },
  {
   "cell_type": "code",
   "execution_count": 400,
   "metadata": {},
   "outputs": [
    {
     "name": "stdout",
     "output_type": "stream",
     "text": [
      "Baseline    : 74254.7812\n",
      "Linear      : 150655.8125\n",
      "Dense       : 74741.0547\n",
      "Multi step dense: 119855.2344\n",
      "Conv        : 100701.2500\n"
     ]
    }
   ],
   "source": [
    "for name, value in performance.items():\n",
    "  print(f'{name:12s}: {value[1]:0.4f}')"
   ]
  },
  {
   "cell_type": "code",
   "execution_count": null,
   "metadata": {},
   "outputs": [],
   "source": []
  }
 ],
 "metadata": {
  "environment": {
   "name": "tf2-2-3-gpu.2-3.m55",
   "type": "gcloud",
   "uri": "gcr.io/deeplearning-platform-release/tf2-2-3-gpu.2-3:m55"
  },
  "kernelspec": {
   "display_name": "Python 3",
   "language": "python",
   "name": "python3"
  },
  "language_info": {
   "codemirror_mode": {
    "name": "ipython",
    "version": 3
   },
   "file_extension": ".py",
   "mimetype": "text/x-python",
   "name": "python",
   "nbconvert_exporter": "python",
   "pygments_lexer": "ipython3",
   "version": "3.7.8"
  }
 },
 "nbformat": 4,
 "nbformat_minor": 4
}
